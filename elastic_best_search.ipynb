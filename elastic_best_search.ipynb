{
 "cells": [
  {
   "cell_type": "code",
   "execution_count": 2,
   "metadata": {},
   "outputs": [],
   "source": [
    "import os, sys\n",
    "import re\n",
    "import math\n",
    "from pymystem3 import Mystem\n",
    "from bs4 import BeautifulSoup, Comment\n",
    "import pandas as pd\n",
    "import numpy as np\n",
    "import multiprocessing as mp\n",
    "import urllib\n",
    "import pickle\n",
    "from tqdm import tqdm_notebook\n",
    "import matplotlib.pyplot as plt\n",
    "from collections import Counter\n",
    "from elasticsearch import Elasticsearch\n",
    "from elasticsearch.helpers import parallel_bulk\n",
    "import networkx as nx"
   ]
  },
  {
   "cell_type": "code",
   "execution_count": 3,
   "metadata": {},
   "outputs": [],
   "source": [
    "es = Elasticsearch([{'host': 'localhost', 'port': 9200, 'timeout': 360, 'maxsize': 25}])"
   ]
  },
  {
   "cell_type": "code",
   "execution_count": 8,
   "metadata": {},
   "outputs": [],
   "source": [
    "def read_docs():\n",
    "    df = pd.read_csv('texts.csv', skiprows=0)\n",
    "    ids = df['id'].to_numpy()\n",
    "    docs = df['text'].to_numpy()\n",
    "    return ids, docs\n",
    "\n",
    "\n",
    "def read_graph(nodes):\n",
    "    df = pd.read_csv('url_graph.csv')\n",
    "    src = df['src'].to_numpy()\n",
    "    dst = df['dst'].to_numpy()\n",
    "    edges = np.hstack((src.reshape(-1,1), dst.reshape(-1,1)))\n",
    "    graph = nx.DiGraph()\n",
    "    graph.add_nodes_from(nodes)\n",
    "    graph.add_edges_from(edges)\n",
    "    return graph\n",
    "\n",
    "\n",
    "def read_urls():\n",
    "    df = pd.read_csv('urls.csv')\n",
    "    urls = {int(row['html_id']): row['html_url'] for _, row in df.iterrows()}\n",
    "    return urls\n",
    "\n",
    "\n",
    "def load_lemmas():\n",
    "    with open('lemmas.pickle', 'rb') as f:\n",
    "        return pickle.load(f)\n",
    "    \n",
    "    \n",
    "def decode(s):\n",
    "    s = base64.b64decode(s)\n",
    "    s = codecs.decode(s, 'cp1251', errors='ignore')\n",
    "    return s\n",
    "\n",
    "\n",
    "def get_quieries(relevance):\n",
    "    queries = {}\n",
    "    with open('web2008_adhoc.xml','r', encoding=\"cp1251\") as src:\n",
    "        raw_xml = src.read()\n",
    "        soup = BeautifulSoup(raw_xml)\n",
    "        for task in soup.find_all('task'):\n",
    "            if task['id'] in relevance:\n",
    "                queries[task['id']] = task.querytext.string\n",
    "    return queries\n",
    "\n",
    "\n",
    "def get_relevance():\n",
    "    relevance = {}\n",
    "    with open('or_relevant-minus_table.xml','r', encoding=\"cp1251\") as src:\n",
    "        raw_xml = src.read()\n",
    "        soup = BeautifulSoup(raw_xml)\n",
    "        \n",
    "        for task in soup.find_all('task'):\n",
    "            documents = task.find_all('document') \n",
    "            vital = set()\n",
    "            for doc in documents:\n",
    "                if doc['relevance'] == 'vital':\n",
    "                    vital.add(doc['id'])\n",
    "            if vital:\n",
    "                relevance[task['id']] = vital\n",
    "    return relevance"
   ]
  },
  {
   "cell_type": "code",
   "execution_count": 5,
   "metadata": {},
   "outputs": [],
   "source": [
    "def create_settings():\n",
    "    settings = {\n",
    "        'mappings': {\n",
    "            'properties': {\n",
    "                'title': {\n",
    "                    'type': 'text'\n",
    "                }, \n",
    "                'content': {\n",
    "                    'type': 'text'\n",
    "                },\n",
    "                'pagerank': {\n",
    "                    'type': 'rank_feature'\n",
    "                },\n",
    "                'url_len': {\n",
    "                    'type': 'rank_feature'\n",
    "                }\n",
    "             }\n",
    "        },\n",
    "        'settings': {\n",
    "            'analysis': {\n",
    "                'analyzer': {\n",
    "                    'white_lover': {\n",
    "                        'tokenizer': 'letter',\n",
    "                        'filter': [\n",
    "                            'lowercase', \n",
    "                        ]\n",
    "                    }\n",
    "                }\n",
    "            }\n",
    "        }\n",
    "    }\n",
    "    return settings\n",
    "\n",
    "\n",
    "def create_es_action(index, doc_id, document):\n",
    "    return {\n",
    "        '_index': index,\n",
    "        '_id': doc_id,\n",
    "        '_source': document\n",
    "    }\n",
    "\n",
    "\n",
    "def create_index_with_pagerank(index, ids, all_docs, pagerank, urls):\n",
    "    def next_document():\n",
    "        for i, doc in tqdm_notebook(list(zip(ids, all_docs))):\n",
    "            if doc is not None:\n",
    "                doc = str(doc).split('\\n', 1)\n",
    "                if len(doc) == 2:\n",
    "                    title, body = doc\n",
    "                    desc = {\n",
    "                        'title': title,\n",
    "                        'content': body, \n",
    "                        'pagerank': pagerank.get(i, 0), \n",
    "                        'url_len': len(urls.get(i, ''))\n",
    "                    }\n",
    "                    yield create_es_action(index, int(i), desc)\n",
    "    \n",
    "    for ok, result in parallel_bulk(es, next_document(), queue_size=4, thread_count=4, chunk_size=1000):\n",
    "        if not ok:\n",
    "            print(result)\n",
    "\n",
    "def print_index_size(index): \n",
    "    print(f\"{(es.indices.stats(index)['_all']['primaries']['store']['size_in_bytes'] / 2 ** 30):.2f} GB\")"
   ]
  },
  {
   "cell_type": "code",
   "execution_count": 25,
   "metadata": {},
   "outputs": [],
   "source": [
    "def get_query_builder(title_boost, pagerank_boost, url_length_boost):\n",
    "    return lambda query : {\n",
    "            'query': {\n",
    "                'bool': {\n",
    "                    'should': [\n",
    "                        {\n",
    "                            'match': {\n",
    "                                'content': query\n",
    "                            }\n",
    "                        },\n",
    "                        {\n",
    "                            'match': {\n",
    "                                'title': {\n",
    "                                    'query': query,\n",
    "                                    'operator': 'AND',\n",
    "                                    'boost': title_boost\n",
    "                                }\n",
    "                            }\n",
    "                        },\n",
    "                        {\n",
    "                            'rank_feature': {\n",
    "                                'field': 'pagerank',\n",
    "                                'boost': pagerank_boost,\n",
    "                            },\n",
    "                        },\n",
    "                        {\n",
    "                            'rank_feature': {\n",
    "                                'field': 'url_len',\n",
    "                                'boost': url_length_boost\n",
    "                            },\n",
    "                        }\n",
    "                    ]\n",
    "                }\n",
    "            }\n",
    "        }\n",
    "\n",
    "\n",
    "def search(query, index, *args, K=20):\n",
    "    res = es.search(index=index, body=query, size=K)['hits']\n",
    "    pretty_result = []\n",
    "    for hit in res['hits']:\n",
    "        pretty_result.append({\n",
    "            'id': hit['_id'],\n",
    "            'score': hit['_score']\n",
    "        })\n",
    "    return pretty_result\n",
    "\n",
    "\n",
    "def get_relevant_for_k(res, relevant, K=20):\n",
    "    return sum([1 if res['id'] in relevant else 0 for res in res[:K]])        \n",
    "\n",
    "\n",
    "def analyze_results(index, query_builder, lemmatize_query=False, K=20, params={}):\n",
    "    m = Mystem()\n",
    "    \n",
    "    def lemmatize_doc(doc):\n",
    "        return ''.join(m.lemmatize(str(doc)))\n",
    "\n",
    "    def lemmatize_collection(docs):\n",
    "        result = []\n",
    "        for doc in tqdm_notebook(docs):\n",
    "            result.append(lemmatize_doc(doc))\n",
    "        return result\n",
    "\n",
    "    Q = len(queries)\n",
    "    qpK, qrK, qR_average, qmapK = 0, 0, 0, 0\n",
    "    qR = []\n",
    "    for task, q in tqdm_notebook(queries.items()):\n",
    "        if lemmatize_query:\n",
    "            q = lemmatize_doc(q)\n",
    "        results = search(query_builder(q), index, K)\n",
    "        cur_relevant = len(relevance[task])\n",
    "        qpK += get_relevant_for_k(results, relevance[task], K) / K \n",
    "        qrK += get_relevant_for_k(results, relevance[task], K) / cur_relevant\n",
    "        qR.append(get_relevant_for_k(results, relevance[task], cur_relevant) / cur_relevant)\n",
    "        qR_average += qR[-1]\n",
    "        mapK = 0\n",
    "        for k in range(1, K + 1):\n",
    "            mapK += get_relevant_for_k(results, relevance[task], k) / k\n",
    "        mapK /= K\n",
    "        qmapK += mapK\n",
    "    print('=========')\n",
    "    print(f'params={params}')\n",
    "    print(f'p@{K} {qpK / Q}')\n",
    "    print(f'r@{K} {qrK / Q}')\n",
    "    print(f'R-precision@{K} {qR_average / Q}')\n",
    "    print(f'Average MAP@{K} {qmapK / Q}')\n",
    "    print()"
   ]
  },
  {
   "cell_type": "code",
   "execution_count": 9,
   "metadata": {},
   "outputs": [],
   "source": [
    "ids, _ = read_docs()\n",
    "ids = ids.astype(np.int32)\n",
    "lemmatized_docs = load_lemmas()\n",
    "\n",
    "graph = read_graph(ids)\n",
    "pagerank = nx.pagerank(graph, alpha=0.9)\n",
    "\n",
    "urls = read_urls()"
   ]
  },
  {
   "cell_type": "code",
   "execution_count": 10,
   "metadata": {},
   "outputs": [],
   "source": [
    "relevance = get_relevance()\n",
    "queries = get_quieries(relevance)"
   ]
  },
  {
   "cell_type": "code",
   "execution_count": 11,
   "metadata": {},
   "outputs": [
    {
     "data": {
      "application/vnd.jupyter.widget-view+json": {
       "model_id": "8547477d4f684b82b4509cd2d8d91f36",
       "version_major": 2,
       "version_minor": 0
      },
      "text/plain": [
       "HBox(children=(IntProgress(value=0, max=199368), HTML(value='')))"
      ]
     },
     "metadata": {},
     "output_type": "display_data"
    },
    {
     "name": "stdout",
     "output_type": "stream",
     "text": [
      "\n",
      "2.00 GB\n"
     ]
    }
   ],
   "source": [
    "MYANDEX_PAGERANK = 'myandex_pagerank'\n",
    "es.indices.delete(index=MYANDEX_PAGERANK, ignore=[400, 404])\n",
    "es.indices.create(index=MYANDEX_PAGERANK, body=create_settings())\n",
    "create_index_with_pagerank(MYANDEX_PAGERANK, ids, lemmatized_docs, pagerank, urls)\n",
    "print_index_size(MYANDEX_PAGERANK)"
   ]
  },
  {
   "cell_type": "code",
   "execution_count": 24,
   "metadata": {
    "scrolled": false
   },
   "outputs": [
    {
     "data": {
      "application/vnd.jupyter.widget-view+json": {
       "model_id": "8b0cecf74403446d9bc3e084152c054b",
       "version_major": 2,
       "version_minor": 0
      },
      "text/plain": [
       "HBox(children=(IntProgress(value=0, max=495), HTML(value='')))"
      ]
     },
     "metadata": {},
     "output_type": "display_data"
    },
    {
     "name": "stdout",
     "output_type": "stream",
     "text": [
      "\n",
      "=========\n",
      "params={'title_boost': 0.05, 'pagerank_boost': 0.3, 'url_length_boost': 0.1}\n",
      "p@20 0.40787878787878773\n",
      "r@20 0.2679791848725738\n",
      "R-precision@20 0.2278855390858517\n",
      "Average MAP@20 0.4644576682599245\n",
      "\n"
     ]
    },
    {
     "data": {
      "application/vnd.jupyter.widget-view+json": {
       "model_id": "15cf8d74362845a9ae6ed5a65e4bf9c7",
       "version_major": 2,
       "version_minor": 0
      },
      "text/plain": [
       "HBox(children=(IntProgress(value=0, max=495), HTML(value='')))"
      ]
     },
     "metadata": {},
     "output_type": "display_data"
    },
    {
     "name": "stdout",
     "output_type": "stream",
     "text": [
      "\n",
      "=========\n",
      "params={'title_boost': 0.1, 'pagerank_boost': 0.3, 'url_length_boost': 0.1}\n",
      "p@20 0.4105050505050504\n",
      "r@20 0.2690059372442559\n",
      "R-precision@20 0.22845189524847453\n",
      "Average MAP@20 0.4652662340773443\n",
      "\n"
     ]
    },
    {
     "data": {
      "application/vnd.jupyter.widget-view+json": {
       "model_id": "a32fab3fe54b4a0b88426997044cea2d",
       "version_major": 2,
       "version_minor": 0
      },
      "text/plain": [
       "HBox(children=(IntProgress(value=0, max=495), HTML(value='')))"
      ]
     },
     "metadata": {},
     "output_type": "display_data"
    },
    {
     "name": "stdout",
     "output_type": "stream",
     "text": [
      "\n",
      "=========\n",
      "params={'title_boost': 0.15, 'pagerank_boost': 0.3, 'url_length_boost': 0.1}\n",
      "p@20 0.4092929292929289\n",
      "r@20 0.26871641700140114\n",
      "R-precision@20 0.22778263702010262\n",
      "Average MAP@20 0.4659289970591688\n",
      "\n"
     ]
    },
    {
     "data": {
      "application/vnd.jupyter.widget-view+json": {
       "model_id": "b6ce1ab440164d4b9f81c0a6403a900c",
       "version_major": 2,
       "version_minor": 0
      },
      "text/plain": [
       "HBox(children=(IntProgress(value=0, max=495), HTML(value='')))"
      ]
     },
     "metadata": {},
     "output_type": "display_data"
    },
    {
     "name": "stdout",
     "output_type": "stream",
     "text": [
      "\n",
      "=========\n",
      "params={'title_boost': 0.2, 'pagerank_boost': 0.3, 'url_length_boost': 0.1}\n",
      "p@20 0.40818181818181776\n",
      "r@20 0.26729345444453456\n",
      "R-precision@20 0.22656571326881517\n",
      "Average MAP@20 0.4647113159666634\n",
      "\n"
     ]
    },
    {
     "data": {
      "application/vnd.jupyter.widget-view+json": {
       "model_id": "2dee5941f12344c59b51b8f667322112",
       "version_major": 2,
       "version_minor": 0
      },
      "text/plain": [
       "HBox(children=(IntProgress(value=0, max=495), HTML(value='')))"
      ]
     },
     "metadata": {},
     "output_type": "display_data"
    },
    {
     "name": "stdout",
     "output_type": "stream",
     "text": [
      "\n",
      "=========\n",
      "params={'title_boost': 0.5, 'pagerank_boost': 0.3, 'url_length_boost': 0.1}\n",
      "p@20 0.38989898989898975\n",
      "r@20 0.25647465647105466\n",
      "R-precision@20 0.21227514918213955\n",
      "Average MAP@20 0.446129721950519\n",
      "\n"
     ]
    },
    {
     "data": {
      "application/vnd.jupyter.widget-view+json": {
       "model_id": "e2794b80f9454f5e9b34cfd9d16c5225",
       "version_major": 2,
       "version_minor": 0
      },
      "text/plain": [
       "HBox(children=(IntProgress(value=0, max=495), HTML(value='')))"
      ]
     },
     "metadata": {},
     "output_type": "display_data"
    },
    {
     "name": "stdout",
     "output_type": "stream",
     "text": [
      "\n",
      "=========\n",
      "params={'title_boost': 0.6, 'pagerank_boost': 0.3, 'url_length_boost': 0.1}\n",
      "p@20 0.38333333333333314\n",
      "r@20 0.2520706249118833\n",
      "R-precision@20 0.20905985956037307\n",
      "Average MAP@20 0.43994655111864756\n",
      "\n"
     ]
    },
    {
     "data": {
      "application/vnd.jupyter.widget-view+json": {
       "model_id": "feb7d73597844a87b156314f3bae78fb",
       "version_major": 2,
       "version_minor": 0
      },
      "text/plain": [
       "HBox(children=(IntProgress(value=0, max=495), HTML(value='')))"
      ]
     },
     "metadata": {},
     "output_type": "display_data"
    },
    {
     "name": "stdout",
     "output_type": "stream",
     "text": [
      "\n",
      "=========\n",
      "params={'title_boost': 1, 'pagerank_boost': 0.3, 'url_length_boost': 0.1}\n",
      "p@20 0.35858585858585806\n",
      "r@20 0.22253605431629506\n",
      "R-precision@20 0.1857521863268731\n",
      "Average MAP@20 0.41056178874141386\n",
      "\n"
     ]
    },
    {
     "data": {
      "application/vnd.jupyter.widget-view+json": {
       "model_id": "0cd6509743464054b7f1c61b479228df",
       "version_major": 2,
       "version_minor": 0
      },
      "text/plain": [
       "HBox(children=(IntProgress(value=0, max=495), HTML(value='')))"
      ]
     },
     "metadata": {},
     "output_type": "display_data"
    },
    {
     "name": "stdout",
     "output_type": "stream",
     "text": [
      "\n",
      "=========\n",
      "params={'title_boost': 1.5, 'pagerank_boost': 0.3, 'url_length_boost': 0.1}\n",
      "p@20 0.3356565656565655\n",
      "r@20 0.19653478135389413\n",
      "R-precision@20 0.17066042720179336\n",
      "Average MAP@20 0.38910022299629693\n",
      "\n"
     ]
    },
    {
     "data": {
      "application/vnd.jupyter.widget-view+json": {
       "model_id": "1432d14eb29d4a099d20c7004209d832",
       "version_major": 2,
       "version_minor": 0
      },
      "text/plain": [
       "HBox(children=(IntProgress(value=0, max=495), HTML(value='')))"
      ]
     },
     "metadata": {},
     "output_type": "display_data"
    },
    {
     "name": "stdout",
     "output_type": "stream",
     "text": [
      "\n",
      "=========\n",
      "params={'title_boost': 2, 'pagerank_boost': 0.3, 'url_length_boost': 0.1}\n",
      "p@20 0.3189898989898989\n",
      "r@20 0.18539902829004395\n",
      "R-precision@20 0.15951728534267562\n",
      "Average MAP@20 0.37568961163179654\n",
      "\n"
     ]
    },
    {
     "data": {
      "application/vnd.jupyter.widget-view+json": {
       "model_id": "64af7a02887f48b98fa9d2a9bd9b54b1",
       "version_major": 2,
       "version_minor": 0
      },
      "text/plain": [
       "HBox(children=(IntProgress(value=0, max=495), HTML(value='')))"
      ]
     },
     "metadata": {},
     "output_type": "display_data"
    },
    {
     "name": "stdout",
     "output_type": "stream",
     "text": [
      "\n",
      "=========\n",
      "params={'title_boost': 2.5, 'pagerank_boost': 0.3, 'url_length_boost': 0.1}\n",
      "p@20 0.3097979797979797\n",
      "r@20 0.1792325817001651\n",
      "R-precision@20 0.153429574798556\n",
      "Average MAP@20 0.36854795759761033\n",
      "\n"
     ]
    },
    {
     "data": {
      "application/vnd.jupyter.widget-view+json": {
       "model_id": "cf53ff3740014433976f9d989f005e14",
       "version_major": 2,
       "version_minor": 0
      },
      "text/plain": [
       "HBox(children=(IntProgress(value=0, max=495), HTML(value='')))"
      ]
     },
     "metadata": {},
     "output_type": "display_data"
    },
    {
     "name": "stdout",
     "output_type": "stream",
     "text": [
      "\n",
      "=========\n",
      "params={'title_boost': 3, 'pagerank_boost': 0.3, 'url_length_boost': 0.1}\n",
      "p@20 0.3039393939393938\n",
      "r@20 0.17399137899509745\n",
      "R-precision@20 0.14910640467818762\n",
      "Average MAP@20 0.3629080069354012\n",
      "\n"
     ]
    },
    {
     "data": {
      "application/vnd.jupyter.widget-view+json": {
       "model_id": "7db4706120844f1eaaa5f29141155240",
       "version_major": 2,
       "version_minor": 0
      },
      "text/plain": [
       "HBox(children=(IntProgress(value=0, max=495), HTML(value='')))"
      ]
     },
     "metadata": {},
     "output_type": "display_data"
    },
    {
     "name": "stdout",
     "output_type": "stream",
     "text": [
      "\n",
      "=========\n",
      "params={'title_boost': 5, 'pagerank_boost': 0.3, 'url_length_boost': 0.1}\n",
      "p@20 0.29505050505050495\n",
      "r@20 0.16712922176581793\n",
      "R-precision@20 0.14376694951082578\n",
      "Average MAP@20 0.34963506564198443\n",
      "\n"
     ]
    }
   ],
   "source": [
    "# matching any word from query in title (OR operator)\n",
    "for title_boost in [0.05, 0.1, 0.15, 0.2, 0.5, 0.6, 1, 1.5, 2, 2.5, 3, 5]:\n",
    "    params = {\n",
    "        'title_boost': title_boost, \n",
    "        'pagerank_boost': 0.3, \n",
    "        'url_length_boost': 0.1\n",
    "    }\n",
    "    query_builder = get_query_builder(**params)\n",
    "    analyze_results(MYANDEX_PAGERANK, query_builder, lemmatize_query=True, K=20, params=params)"
   ]
  },
  {
   "cell_type": "code",
   "execution_count": 26,
   "metadata": {
    "scrolled": false
   },
   "outputs": [
    {
     "data": {
      "application/vnd.jupyter.widget-view+json": {
       "model_id": "8705024c64bf47768177632c98a7af07",
       "version_major": 2,
       "version_minor": 0
      },
      "text/plain": [
       "HBox(children=(IntProgress(value=0, max=495), HTML(value='')))"
      ]
     },
     "metadata": {},
     "output_type": "display_data"
    },
    {
     "name": "stdout",
     "output_type": "stream",
     "text": [
      "\n",
      "=========\n",
      "params={'title_boost': 0.05, 'pagerank_boost': 0.3, 'url_length_boost': 0.1}\n",
      "p@20 0.4045454545454544\n",
      "r@20 0.2663234146769705\n",
      "R-precision@20 0.2248158977214754\n",
      "Average MAP@20 0.45993655384507004\n",
      "\n"
     ]
    },
    {
     "data": {
      "application/vnd.jupyter.widget-view+json": {
       "model_id": "2f9be3d1e8b44eb8b0f94b9e15d3a022",
       "version_major": 2,
       "version_minor": 0
      },
      "text/plain": [
       "HBox(children=(IntProgress(value=0, max=495), HTML(value='')))"
      ]
     },
     "metadata": {},
     "output_type": "display_data"
    },
    {
     "name": "stdout",
     "output_type": "stream",
     "text": [
      "\n",
      "=========\n",
      "params={'title_boost': 0.1, 'pagerank_boost': 0.3, 'url_length_boost': 0.1}\n",
      "p@20 0.4065656565656566\n",
      "r@20 0.2676514241503794\n",
      "R-precision@20 0.2253021563531334\n",
      "Average MAP@20 0.459350301973707\n",
      "\n"
     ]
    },
    {
     "data": {
      "application/vnd.jupyter.widget-view+json": {
       "model_id": "ce37a308180c4e49bacca65e8ed2ef44",
       "version_major": 2,
       "version_minor": 0
      },
      "text/plain": [
       "HBox(children=(IntProgress(value=0, max=495), HTML(value='')))"
      ]
     },
     "metadata": {},
     "output_type": "display_data"
    },
    {
     "name": "stdout",
     "output_type": "stream",
     "text": [
      "\n",
      "=========\n",
      "params={'title_boost': 0.15, 'pagerank_boost': 0.3, 'url_length_boost': 0.1}\n",
      "p@20 0.4075757575757574\n",
      "r@20 0.2709839831457147\n",
      "R-precision@20 0.225941112654866\n",
      "Average MAP@20 0.4593703718109384\n",
      "\n"
     ]
    },
    {
     "data": {
      "application/vnd.jupyter.widget-view+json": {
       "model_id": "689d9b37a0134de0a9c0fa965004c75a",
       "version_major": 2,
       "version_minor": 0
      },
      "text/plain": [
       "HBox(children=(IntProgress(value=0, max=495), HTML(value='')))"
      ]
     },
     "metadata": {},
     "output_type": "display_data"
    },
    {
     "name": "stdout",
     "output_type": "stream",
     "text": [
      "\n",
      "=========\n",
      "params={'title_boost': 0.2, 'pagerank_boost': 0.3, 'url_length_boost': 0.1}\n",
      "p@20 0.4077777777777775\n",
      "r@20 0.27218007657812626\n",
      "R-precision@20 0.22612710507717654\n",
      "Average MAP@20 0.4593632655570689\n",
      "\n"
     ]
    },
    {
     "data": {
      "application/vnd.jupyter.widget-view+json": {
       "model_id": "e043f0823b8244d687595b10aa9b0a93",
       "version_major": 2,
       "version_minor": 0
      },
      "text/plain": [
       "HBox(children=(IntProgress(value=0, max=495), HTML(value='')))"
      ]
     },
     "metadata": {},
     "output_type": "display_data"
    },
    {
     "name": "stdout",
     "output_type": "stream",
     "text": [
      "\n",
      "=========\n",
      "params={'title_boost': 0.5, 'pagerank_boost': 0.3, 'url_length_boost': 0.1}\n",
      "p@20 0.40676767676767667\n",
      "r@20 0.2718985568163435\n",
      "R-precision@20 0.22584558531539384\n",
      "Average MAP@20 0.45781439464145374\n",
      "\n"
     ]
    },
    {
     "data": {
      "application/vnd.jupyter.widget-view+json": {
       "model_id": "d5e8089e0ccd4bdc8592bb6eb1fe3959",
       "version_major": 2,
       "version_minor": 0
      },
      "text/plain": [
       "HBox(children=(IntProgress(value=0, max=495), HTML(value='')))"
      ]
     },
     "metadata": {},
     "output_type": "display_data"
    },
    {
     "name": "stdout",
     "output_type": "stream",
     "text": [
      "\n",
      "=========\n",
      "params={'title_boost': 0.6, 'pagerank_boost': 0.3, 'url_length_boost': 0.1}\n",
      "p@20 0.4059595959595957\n",
      "r@20 0.27152600009669897\n",
      "R-precision@20 0.2254730285957493\n",
      "Average MAP@20 0.4573537973191082\n",
      "\n"
     ]
    },
    {
     "data": {
      "application/vnd.jupyter.widget-view+json": {
       "model_id": "7221c6a1d4744391bfe151e10c9d2c20",
       "version_major": 2,
       "version_minor": 0
      },
      "text/plain": [
       "HBox(children=(IntProgress(value=0, max=495), HTML(value='')))"
      ]
     },
     "metadata": {},
     "output_type": "display_data"
    },
    {
     "name": "stdout",
     "output_type": "stream",
     "text": [
      "\n",
      "=========\n",
      "params={'title_boost': 1, 'pagerank_boost': 0.3, 'url_length_boost': 0.1}\n",
      "p@20 0.40575757575757554\n",
      "r@20 0.271318208632365\n",
      "R-precision@20 0.22459183645801453\n",
      "Average MAP@20 0.45618237102455833\n",
      "\n"
     ]
    },
    {
     "data": {
      "application/vnd.jupyter.widget-view+json": {
       "model_id": "e826f7adde714730851e6da1ee5b4a4c",
       "version_major": 2,
       "version_minor": 0
      },
      "text/plain": [
       "HBox(children=(IntProgress(value=0, max=495), HTML(value='')))"
      ]
     },
     "metadata": {},
     "output_type": "display_data"
    },
    {
     "name": "stdout",
     "output_type": "stream",
     "text": [
      "\n",
      "=========\n",
      "params={'title_boost': 1.5, 'pagerank_boost': 0.3, 'url_length_boost': 0.1}\n",
      "p@20 0.40515151515151493\n",
      "r@20 0.2712063064360848\n",
      "R-precision@20 0.22447993426173438\n",
      "Average MAP@20 0.4553200454433802\n",
      "\n"
     ]
    },
    {
     "data": {
      "application/vnd.jupyter.widget-view+json": {
       "model_id": "4a44186f1e274d46bc707acceb015c1b",
       "version_major": 2,
       "version_minor": 0
      },
      "text/plain": [
       "HBox(children=(IntProgress(value=0, max=495), HTML(value='')))"
      ]
     },
     "metadata": {},
     "output_type": "display_data"
    },
    {
     "name": "stdout",
     "output_type": "stream",
     "text": [
      "\n",
      "=========\n",
      "params={'title_boost': 2, 'pagerank_boost': 0.3, 'url_length_boost': 0.1}\n",
      "p@20 0.40434343434343417\n",
      "r@20 0.27101543670351486\n",
      "R-precision@20 0.22428906452916442\n",
      "Average MAP@20 0.45464551708849943\n",
      "\n"
     ]
    },
    {
     "data": {
      "application/vnd.jupyter.widget-view+json": {
       "model_id": "9b52190ec6634ff7b40581705e78792b",
       "version_major": 2,
       "version_minor": 0
      },
      "text/plain": [
       "HBox(children=(IntProgress(value=0, max=495), HTML(value='')))"
      ]
     },
     "metadata": {},
     "output_type": "display_data"
    },
    {
     "name": "stdout",
     "output_type": "stream",
     "text": [
      "\n",
      "=========\n",
      "params={'title_boost': 2.5, 'pagerank_boost': 0.3, 'url_length_boost': 0.1}\n",
      "p@20 0.4044444444444442\n",
      "r@20 0.2709698224883364\n",
      "R-precision@20 0.22424345031398604\n",
      "Average MAP@20 0.45421035579895447\n",
      "\n"
     ]
    },
    {
     "data": {
      "application/vnd.jupyter.widget-view+json": {
       "model_id": "cc2e2f99ec2a41bc9fbf51648e5be88c",
       "version_major": 2,
       "version_minor": 0
      },
      "text/plain": [
       "HBox(children=(IntProgress(value=0, max=495), HTML(value='')))"
      ]
     },
     "metadata": {},
     "output_type": "display_data"
    },
    {
     "name": "stdout",
     "output_type": "stream",
     "text": [
      "\n",
      "=========\n",
      "params={'title_boost': 3, 'pagerank_boost': 0.3, 'url_length_boost': 0.1}\n",
      "p@20 0.4046464646464644\n",
      "r@20 0.271029285038365\n",
      "R-precision@20 0.22430291286401463\n",
      "Average MAP@20 0.4541160580905161\n",
      "\n"
     ]
    },
    {
     "data": {
      "application/vnd.jupyter.widget-view+json": {
       "model_id": "718c71caeaa84b79ac58c139947b01e3",
       "version_major": 2,
       "version_minor": 0
      },
      "text/plain": [
       "HBox(children=(IntProgress(value=0, max=495), HTML(value='')))"
      ]
     },
     "metadata": {},
     "output_type": "display_data"
    },
    {
     "name": "stdout",
     "output_type": "stream",
     "text": [
      "\n",
      "=========\n",
      "params={'title_boost': 5, 'pagerank_boost': 0.3, 'url_length_boost': 0.1}\n",
      "p@20 0.4043434343434341\n",
      "r@20 0.27092748570663805\n",
      "R-precision@20 0.22420111353228778\n",
      "Average MAP@20 0.45379181901064813\n",
      "\n"
     ]
    }
   ],
   "source": [
    "# matching all words from query in title (AND operator)\n",
    "for title_boost in [0.05, 0.1, 0.15, 0.2, 0.5, 0.6, 1, 1.5, 2, 2.5, 3, 5]:\n",
    "    params = {\n",
    "        'title_boost': title_boost, \n",
    "        'pagerank_boost': 0.3, \n",
    "        'url_length_boost': 0.1\n",
    "    }\n",
    "    query_builder = get_query_builder(**params)\n",
    "    analyze_results(MYANDEX_PAGERANK, query_builder, lemmatize_query=True, K=20, params=params)"
   ]
  },
  {
   "cell_type": "code",
   "execution_count": null,
   "metadata": {},
   "outputs": [],
   "source": []
  }
 ],
 "metadata": {
  "kernelspec": {
   "display_name": "ir",
   "language": "python",
   "name": "ir"
  },
  "language_info": {
   "codemirror_mode": {
    "name": "ipython",
    "version": 3
   },
   "file_extension": ".py",
   "mimetype": "text/x-python",
   "name": "python",
   "nbconvert_exporter": "python",
   "pygments_lexer": "ipython3",
   "version": "3.7.3"
  }
 },
 "nbformat": 4,
 "nbformat_minor": 2
}
