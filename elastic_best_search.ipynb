{
 "cells": [
  {
   "cell_type": "code",
   "execution_count": 37,
   "metadata": {},
   "outputs": [
    {
     "data": {
      "text/html": [
       "        <script type=\"text/javascript\">\n",
       "        window.PlotlyConfig = {MathJaxConfig: 'local'};\n",
       "        if (window.MathJax) {MathJax.Hub.Config({SVG: {font: \"STIX-Web\"}});}\n",
       "        if (typeof require !== 'undefined') {\n",
       "        require.undef(\"plotly\");\n",
       "        requirejs.config({\n",
       "            paths: {\n",
       "                'plotly': ['https://cdn.plot.ly/plotly-latest.min']\n",
       "            }\n",
       "        });\n",
       "        require(['plotly'], function(Plotly) {\n",
       "            window._Plotly = Plotly;\n",
       "        });\n",
       "        }\n",
       "        </script>\n",
       "        "
      ]
     },
     "metadata": {},
     "output_type": "display_data"
    }
   ],
   "source": [
    "import os, sys\n",
    "import re\n",
    "import math\n",
    "from pymystem3 import Mystem\n",
    "from bs4 import BeautifulSoup, Comment\n",
    "import pandas as pd\n",
    "import numpy as np\n",
    "import multiprocessing as mp\n",
    "import urllib\n",
    "import pickle\n",
    "from tqdm import tqdm_notebook\n",
    "import matplotlib.pyplot as plt\n",
    "from collections import Counter\n",
    "from elasticsearch import Elasticsearch\n",
    "from elasticsearch.helpers import parallel_bulk\n",
    "import networkx as nx\n",
    "import time\n",
    "\n",
    "import plotly.offline as py\n",
    "import plotly.graph_objs as go\n",
    "\n",
    "py.init_notebook_mode(connected=True)"
   ]
  },
  {
   "cell_type": "code",
   "execution_count": 2,
   "metadata": {},
   "outputs": [],
   "source": [
    "es = Elasticsearch([{'host': 'localhost', 'port': 9200, 'timeout': 360, 'maxsize': 25}])"
   ]
  },
  {
   "cell_type": "code",
   "execution_count": 3,
   "metadata": {},
   "outputs": [],
   "source": [
    "def read_docs():\n",
    "    df = pd.read_csv('texts.csv', skiprows=0)\n",
    "    ids = df['id'].to_numpy()\n",
    "    docs = df['text'].to_numpy()\n",
    "    return ids, docs\n",
    "\n",
    "\n",
    "def read_graph(nodes):\n",
    "    df = pd.read_csv('url_graph.csv')\n",
    "    src = df['src'].to_numpy()\n",
    "    dst = df['dst'].to_numpy()\n",
    "    edges = np.hstack((src.reshape(-1,1), dst.reshape(-1,1)))\n",
    "    graph = nx.DiGraph()\n",
    "    graph.add_nodes_from(nodes)\n",
    "    graph.add_edges_from(edges)\n",
    "    return graph\n",
    "\n",
    "\n",
    "def read_urls():\n",
    "    df = pd.read_csv('urls.csv')\n",
    "    urls = {int(row['html_id']): row['html_url'] for _, row in df.iterrows()}\n",
    "    return urls\n",
    "\n",
    "\n",
    "def load_lemmas():\n",
    "    with open('lemmas.pickle', 'rb') as f:\n",
    "        return pickle.load(f)\n",
    "    \n",
    "    \n",
    "def decode(s):\n",
    "    s = base64.b64decode(s)\n",
    "    s = codecs.decode(s, 'cp1251', errors='ignore')\n",
    "    return s\n",
    "\n",
    "\n",
    "def get_quieries(relevance):\n",
    "    queries = {}\n",
    "    with open('web2008_adhoc.xml','r', encoding=\"cp1251\") as src:\n",
    "        raw_xml = src.read()\n",
    "        soup = BeautifulSoup(raw_xml)\n",
    "        for task in soup.find_all('task'):\n",
    "            if task['id'] in relevance:\n",
    "                queries[task['id']] = task.querytext.string\n",
    "    return queries\n",
    "\n",
    "\n",
    "def get_relevance():\n",
    "    relevance = {}\n",
    "    with open('or_relevant-minus_table.xml','r', encoding=\"cp1251\") as src:\n",
    "        raw_xml = src.read()\n",
    "        soup = BeautifulSoup(raw_xml)\n",
    "        \n",
    "        for task in soup.find_all('task'):\n",
    "            documents = task.find_all('document') \n",
    "            vital = set()\n",
    "            for doc in documents:\n",
    "                if doc['relevance'] == 'vital':\n",
    "                    vital.add(doc['id'])\n",
    "            if vital:\n",
    "                relevance[task['id']] = vital\n",
    "    return relevance"
   ]
  },
  {
   "cell_type": "code",
   "execution_count": 4,
   "metadata": {},
   "outputs": [],
   "source": [
    "def create_settings():\n",
    "    settings = {\n",
    "        'mappings': {\n",
    "            'properties': {\n",
    "                'title': {\n",
    "                    'type': 'text'\n",
    "                }, \n",
    "                'content': {\n",
    "                    'type': 'text'\n",
    "                },\n",
    "                'raw_content': {\n",
    "                    'type': 'text'\n",
    "                },\n",
    "                'pagerank': {\n",
    "                    'type': 'rank_feature'\n",
    "                },\n",
    "                'url_len': {\n",
    "                    'type': 'rank_feature'\n",
    "                }\n",
    "             }\n",
    "        },\n",
    "        'settings': {\n",
    "            'analysis': {\n",
    "                'analyzer': {\n",
    "                    'white_lover': {\n",
    "                        'tokenizer': 'letter',\n",
    "                        'filter': [\n",
    "                            'lowercase', \n",
    "                        ]\n",
    "                    }\n",
    "                }\n",
    "            }\n",
    "        }\n",
    "    }\n",
    "    return settings\n",
    "\n",
    "\n",
    "def create_es_action(index, doc_id, document):\n",
    "    return {\n",
    "        '_index': index,\n",
    "        '_id': doc_id,\n",
    "        '_source': document\n",
    "    }\n",
    "\n",
    "\n",
    "def create_index_with_pagerank(index, ids, all_docs, all_raw_docs, pagerank, urls):\n",
    "    def next_document():\n",
    "        for i, doc, raw_doc in tqdm_notebook(list(zip(ids, all_docs, all_raw_docs))):\n",
    "            if doc is not None:\n",
    "                doc = str(doc).split('\\n', 1)\n",
    "                if len(doc) == 2:\n",
    "                    title, body = doc\n",
    "                    desc = {\n",
    "                        'title': title,\n",
    "                        'content': str(body),\n",
    "                        'raw_content': str(raw_doc),\n",
    "                        'pagerank': pagerank.get(i, 0), \n",
    "                        'url_len': len(urls.get(i, ''))\n",
    "                    }\n",
    "                    yield create_es_action(index, int(i), desc)\n",
    "    \n",
    "    for ok, result in parallel_bulk(es, next_document(), queue_size=4, thread_count=4, chunk_size=1000):\n",
    "        if not ok:\n",
    "            print(result)\n",
    "\n",
    "def print_index_size(index): \n",
    "    print(f\"{(es.indices.stats(index)['_all']['primaries']['store']['size_in_bytes'] / 2 ** 30):.2f} GB\")"
   ]
  },
  {
   "cell_type": "code",
   "execution_count": 58,
   "metadata": {},
   "outputs": [],
   "source": [
    "def get_query_builder(title_boost, pagerank_boost, url_length_boost, content_boost=1, raw_content_boost=0):\n",
    "    return lambda query : {\n",
    "            'query': {\n",
    "                'bool': {\n",
    "                    'should': [\n",
    "                        {\n",
    "                            'match': {\n",
    "                                'content': {\n",
    "                                    'query': query,\n",
    "                                    'boost': content_boost\n",
    "                                }\n",
    "                            }\n",
    "                        },\n",
    "                        {\n",
    "                            'match': {\n",
    "                                'raw_content': {\n",
    "                                    'query': query,\n",
    "                                    'boost': raw_content_boost\n",
    "                                }\n",
    "                            }\n",
    "                        },\n",
    "                        {\n",
    "                            'match': {\n",
    "                                'title': {\n",
    "                                    'query': query,\n",
    "                                    'operator': 'OR',\n",
    "                                    'boost': title_boost\n",
    "                                }\n",
    "                            }\n",
    "                        },\n",
    "                        {\n",
    "                            'rank_feature': {\n",
    "                                'field': 'pagerank',\n",
    "                                'boost': pagerank_boost,\n",
    "                            },\n",
    "                        },\n",
    "                        {\n",
    "                            'rank_feature': {\n",
    "                                'field': 'url_len',\n",
    "                                'boost': url_length_boost\n",
    "                            },\n",
    "                        }\n",
    "                    ]\n",
    "                }\n",
    "            }\n",
    "        }\n",
    "\n",
    "\n",
    "def search(query, index, *args, K=20):\n",
    "    res = es.search(index=index, body=query, size=K)['hits']\n",
    "    pretty_result = []\n",
    "    for hit in res['hits']:\n",
    "        pretty_result.append({\n",
    "            'id': hit['_id'],\n",
    "            'score': hit['_score']\n",
    "        })\n",
    "    return pretty_result\n",
    "\n",
    "\n",
    "def get_relevant_for_k(res, relevant, K=20):\n",
    "    return sum([1 if res['id'] in relevant else 0 for res in res[:K]])        \n",
    "\n",
    "\n",
    "def analyze_results(index, query_builder, lemmatize_query=False, K=20, params={}):\n",
    "    m = Mystem()\n",
    "    \n",
    "    def lemmatize_doc(doc):\n",
    "        return ''.join(m.lemmatize(str(doc)))\n",
    "\n",
    "    def lemmatize_collection(docs):\n",
    "        result = []\n",
    "        for doc in tqdm_notebook(docs):\n",
    "            result.append(lemmatize_doc(doc))\n",
    "        return result\n",
    "\n",
    "    Q = len(queries)\n",
    "    qpK, qrK, qR_average, qmapK = 0, 0, 0, 0\n",
    "    qR = []\n",
    "    for task, q in tqdm_notebook(queries.items()):\n",
    "        if lemmatize_query:\n",
    "            q = lemmatize_doc(q)\n",
    "        results = search(query_builder(q), index, K)\n",
    "        cur_relevant = len(relevance[task])\n",
    "        qpK += get_relevant_for_k(results, relevance[task], K) / K \n",
    "        qrK += get_relevant_for_k(results, relevance[task], K) / cur_relevant\n",
    "        qR.append(get_relevant_for_k(results, relevance[task], cur_relevant) / cur_relevant)\n",
    "        qR_average += qR[-1]\n",
    "        \n",
    "        mapK, cur = 0, 0\n",
    "        for k in range(min(K, len(results))):\n",
    "            if results[k]['id'] in relevance[task]:\n",
    "                cur += 1\n",
    "                mapK += cur / (k + 1)\n",
    "        if cur != 0:\n",
    "            mapK /= cur\n",
    "        qmapK += mapK\n",
    "    print('=========')\n",
    "    print(f'params={params}')\n",
    "    print(f'p@{K} {qpK / Q}')\n",
    "    print(f'r@{K} {qrK / Q}')\n",
    "    print(f'R-precision@{K} {qR_average / Q}')\n",
    "    print(f'MAP@{K} {qmapK / Q}')\n",
    "    print()\n",
    "    \n",
    "    return qpK / Q, qrK / Q, qR_average / Q, qmapK / Q"
   ]
  },
  {
   "cell_type": "code",
   "execution_count": 6,
   "metadata": {},
   "outputs": [],
   "source": [
    "ids, docs = read_docs()\n",
    "ids = ids.astype(np.int32)\n",
    "lemmatized_docs = load_lemmas()\n",
    "\n",
    "graph = read_graph(ids)\n",
    "pagerank = nx.pagerank(graph, alpha=0.9)\n",
    "\n",
    "urls = read_urls()"
   ]
  },
  {
   "cell_type": "code",
   "execution_count": 7,
   "metadata": {},
   "outputs": [],
   "source": [
    "relevance = get_relevance()\n",
    "queries = get_quieries(relevance)"
   ]
  },
  {
   "cell_type": "code",
   "execution_count": 8,
   "metadata": {},
   "outputs": [
    {
     "data": {
      "application/vnd.jupyter.widget-view+json": {
       "model_id": "3eaeccdb07ab400ba946c15008cae064",
       "version_major": 2,
       "version_minor": 0
      },
      "text/plain": [
       "HBox(children=(IntProgress(value=0, max=199368), HTML(value='')))"
      ]
     },
     "metadata": {},
     "output_type": "display_data"
    },
    {
     "name": "stdout",
     "output_type": "stream",
     "text": [
      "\n",
      "3.32 GB\n"
     ]
    }
   ],
   "source": [
    "MYANDEX_PAGERANK = 'myandex_pagerank'\n",
    "es.indices.delete(index=MYANDEX_PAGERANK, ignore=[400, 404])\n",
    "es.indices.create(index=MYANDEX_PAGERANK, body=create_settings())\n",
    "tin = time.time()\n",
    "create_index_with_pagerank(MYANDEX_PAGERANK, ids, lemmatized_docs, docs, pagerank, urls)\n",
    "tout = time.time()\n",
    "print_index_size(MYANDEX_PAGERANK)"
   ]
  },
  {
   "cell_type": "code",
   "execution_count": 9,
   "metadata": {},
   "outputs": [
    {
     "name": "stdout",
     "output_type": "stream",
     "text": [
      "total_time=245.07406 sec\n"
     ]
    }
   ],
   "source": [
    "print(f'total_time={tout-tin:.5f} sec')"
   ]
  },
  {
   "cell_type": "code",
   "execution_count": 51,
   "metadata": {
    "scrolled": false
   },
   "outputs": [
    {
     "data": {
      "application/vnd.jupyter.widget-view+json": {
       "model_id": "bed3834ce6e8489f8006fd6fb68a0b6e",
       "version_major": 2,
       "version_minor": 0
      },
      "text/plain": [
       "HBox(children=(IntProgress(value=0, max=495), HTML(value='')))"
      ]
     },
     "metadata": {},
     "output_type": "display_data"
    },
    {
     "name": "stdout",
     "output_type": "stream",
     "text": [
      "\n",
      "=========\n",
      "params={'title_boost': 0.05, 'pagerank_boost': 0.3, 'url_length_boost': 0.1, 'content_boost': 1, 'raw_content_boost': 0}\n",
      "p@20 0.40797979797979783\n",
      "r@20 0.26800214171371245\n",
      "R-precision@20 0.2279084959269904\n",
      "MAP@20 0.5563371968330636\n",
      "\n"
     ]
    }
   ],
   "source": [
    "# with lemmatizing, titles and static params\n",
    "params = {\n",
    "    'title_boost': 0.05, \n",
    "    'pagerank_boost': 0.3, \n",
    "    'url_length_boost': 0.1,\n",
    "    'content_boost': 1,\n",
    "    'raw_content_boost': 0\n",
    "}\n",
    "query_builder = get_query_builder(**params)\n",
    "_ = analyze_results(MYANDEX_PAGERANK, query_builder, lemmatize_query=True, K=20, params=params)"
   ]
  },
  {
   "cell_type": "code",
   "execution_count": 52,
   "metadata": {},
   "outputs": [
    {
     "data": {
      "application/vnd.jupyter.widget-view+json": {
       "model_id": "54d5d1051a9942b4b1243d9788267d5a",
       "version_major": 2,
       "version_minor": 0
      },
      "text/plain": [
       "HBox(children=(IntProgress(value=0, max=495), HTML(value='')))"
      ]
     },
     "metadata": {},
     "output_type": "display_data"
    },
    {
     "name": "stdout",
     "output_type": "stream",
     "text": [
      "\n",
      "=========\n",
      "params={'title_boost': 0.05, 'pagerank_boost': 0, 'url_length_boost': 0, 'content_boost': 1, 'raw_content_boost': 0}\n",
      "p@20 0.4073737373737372\n",
      "r@20 0.26724703458598775\n",
      "R-precision@20 0.22796908420732437\n",
      "MAP@20 0.55738684362248\n",
      "\n"
     ]
    }
   ],
   "source": [
    "# without static params\n",
    "params = {\n",
    "    'title_boost': 0.05, \n",
    "    'pagerank_boost': 0, \n",
    "    'url_length_boost': 0,\n",
    "    'content_boost': 1,\n",
    "    'raw_content_boost': 0\n",
    "}\n",
    "query_builder = get_query_builder(**params)\n",
    "_ = analyze_results(MYANDEX_PAGERANK, query_builder, lemmatize_query=True, K=20, params=params)"
   ]
  },
  {
   "cell_type": "code",
   "execution_count": 53,
   "metadata": {},
   "outputs": [
    {
     "data": {
      "application/vnd.jupyter.widget-view+json": {
       "model_id": "9e35bb5a5b7a4bcebadc1ad36f799711",
       "version_major": 2,
       "version_minor": 0
      },
      "text/plain": [
       "HBox(children=(IntProgress(value=0, max=495), HTML(value='')))"
      ]
     },
     "metadata": {},
     "output_type": "display_data"
    },
    {
     "name": "stdout",
     "output_type": "stream",
     "text": [
      "\n",
      "=========\n",
      "params={'title_boost': 0, 'pagerank_boost': 0, 'url_length_boost': 0, 'content_boost': 1, 'raw_content_boost': 0}\n",
      "p@20 0.39999999999999997\n",
      "r@20 0.2673210090932032\n",
      "R-precision@20 0.22566073878320037\n",
      "MAP@20 0.5451749977972244\n",
      "\n"
     ]
    }
   ],
   "source": [
    "# only with lemmas\n",
    "params = {\n",
    "    'title_boost': 0, \n",
    "    'pagerank_boost': 0, \n",
    "    'url_length_boost': 0,\n",
    "    'content_boost': 1,\n",
    "    'raw_content_boost': 0\n",
    "}\n",
    "query_builder = get_query_builder(**params)\n",
    "_ = analyze_results(MYANDEX_PAGERANK, query_builder, lemmatize_query=True, K=20, params=params)"
   ]
  },
  {
   "cell_type": "code",
   "execution_count": 54,
   "metadata": {},
   "outputs": [
    {
     "data": {
      "application/vnd.jupyter.widget-view+json": {
       "model_id": "e6ee9fb5c12b436ab12b3830fe6a9e4a",
       "version_major": 2,
       "version_minor": 0
      },
      "text/plain": [
       "HBox(children=(IntProgress(value=0, max=495), HTML(value='')))"
      ]
     },
     "metadata": {},
     "output_type": "display_data"
    },
    {
     "name": "stdout",
     "output_type": "stream",
     "text": [
      "\n",
      "=========\n",
      "params={'title_boost': 0, 'pagerank_boost': 0, 'url_length_boost': 0, 'content_boost': 0, 'raw_content_boost': 1}\n",
      "p@20 0.3434343434343436\n",
      "r@20 0.22120657518953626\n",
      "R-precision@20 0.1907489345702951\n",
      "MAP@20 0.5136545704304819\n",
      "\n"
     ]
    }
   ],
   "source": [
    "def get_query_builder():\n",
    "    return lambda query : {\n",
    "        'query': {\n",
    "            'bool': {\n",
    "                'should': [\n",
    "                    {\n",
    "                        'match': {\n",
    "                            'raw_content': query,\n",
    "                        }\n",
    "                    }\n",
    "                ]\n",
    "            }\n",
    "        }\n",
    "    }\n",
    "\n",
    "\n",
    "params = {\n",
    "    'title_boost': 0, \n",
    "    'pagerank_boost': 0, \n",
    "    'url_length_boost': 0,\n",
    "    'content_boost': 0,\n",
    "    'raw_content_boost': 1\n",
    "}\n",
    "        \n",
    "query_builder = get_query_builder()\n",
    "_ = analyze_results(MYANDEX_PAGERANK, query_builder, lemmatize_query=False, K=20, params=params)"
   ]
  },
  {
   "cell_type": "code",
   "execution_count": 55,
   "metadata": {},
   "outputs": [
    {
     "data": {
      "application/vnd.jupyter.widget-view+json": {
       "model_id": "06c87847aaae465792b94660d439bdea",
       "version_major": 2,
       "version_minor": 0
      },
      "text/plain": [
       "HBox(children=(IntProgress(value=0, max=495), HTML(value='')))"
      ]
     },
     "metadata": {},
     "output_type": "display_data"
    },
    {
     "name": "stdout",
     "output_type": "stream",
     "text": [
      "\n",
      "=========\n",
      "params={'title_boost': 0, 'pagerank_boost': 0, 'url_length_boost': 0, 'content_boost': 0, 'raw_content_boost': 1}\n",
      "p@20 0.3434343434343436\n",
      "r@20 0.22120657518953626\n",
      "R-precision@20 0.1907489345702951\n",
      "MAP@20 0.5136545704304819\n",
      "\n"
     ]
    }
   ],
   "source": [
    "def get_query_builder():\n",
    "    return lambda query : {\n",
    "        'query': {\n",
    "            'bool': {\n",
    "                'must': [\n",
    "                    {\n",
    "                        'match': {\n",
    "                            'raw_content': query,\n",
    "                        }\n",
    "                    }\n",
    "                ]\n",
    "            }\n",
    "        }\n",
    "    }\n",
    "\n",
    "\n",
    "params = {\n",
    "    'title_boost': 0, \n",
    "    'pagerank_boost': 0, \n",
    "    'url_length_boost': 0,\n",
    "    'content_boost': 0,\n",
    "    'raw_content_boost': 1\n",
    "}\n",
    "        \n",
    "query_builder = get_query_builder()\n",
    "_ = analyze_results(MYANDEX_PAGERANK, query_builder, lemmatize_query=False, K=20, params=params)"
   ]
  },
  {
   "cell_type": "code",
   "execution_count": 56,
   "metadata": {},
   "outputs": [],
   "source": [
    "def build_plot(results):\n",
    "    ks = list(range(1, len(results) + 1))\n",
    "    ps = [p for p, _, _, _ in results]\n",
    "    rs = [r for _, r, _, _ in results]\n",
    "    Rs = [R for _, _, R, _ in results]\n",
    "    MAPs = [MAP for _, _, _, MAP in results]\n",
    "    \n",
    "    traces = [\n",
    "        go.Scatter(x=ks, y=ps, name='p@K', mode='lines'),\n",
    "        go.Scatter(x=ks, y=rs, name='r@K', mode='lines'),\n",
    "        go.Scatter(x=ks, y=Rs, name='R-precision@K', mode='lines'),\n",
    "        go.Scatter(x=ks, y=MAPs, name='MAP@K', mode='lines')\n",
    "    ]\n",
    "    \n",
    "    layout = go.Layout(xaxis={'title': 'K'}, yaxis={'title': 'score'})\n",
    "    fig = go.Figure(traces, layout=layout)\n",
    "    py.iplot(fig)"
   ]
  },
  {
   "cell_type": "code",
   "execution_count": 59,
   "metadata": {},
   "outputs": [
    {
     "data": {
      "application/vnd.jupyter.widget-view+json": {
       "model_id": "e7d3701cdfe748809ccf1b2d062cfa96",
       "version_major": 2,
       "version_minor": 0
      },
      "text/plain": [
       "HBox(children=(IntProgress(value=0, max=495), HTML(value='')))"
      ]
     },
     "metadata": {},
     "output_type": "display_data"
    },
    {
     "name": "stdout",
     "output_type": "stream",
     "text": [
      "\n",
      "=========\n",
      "params={'title_boost': 0.05, 'pagerank_boost': 0.3, 'url_length_boost': 0.1, 'content_boost': 1, 'raw_content_boost': 0}\n",
      "p@1 0.5494949494949495\n",
      "r@1 0.02538380936741067\n",
      "R-precision@1 0.2279084959269904\n",
      "MAP@1 0.5494949494949495\n",
      "\n"
     ]
    },
    {
     "data": {
      "application/vnd.jupyter.widget-view+json": {
       "model_id": "b50f02bee8474f3c9053ca3ae0411b21",
       "version_major": 2,
       "version_minor": 0
      },
      "text/plain": [
       "HBox(children=(IntProgress(value=0, max=495), HTML(value='')))"
      ]
     },
     "metadata": {},
     "output_type": "display_data"
    },
    {
     "name": "stdout",
     "output_type": "stream",
     "text": [
      "\n",
      "=========\n",
      "params={'title_boost': 0.05, 'pagerank_boost': 0.3, 'url_length_boost': 0.1, 'content_boost': 1, 'raw_content_boost': 0}\n",
      "p@2 0.5393939393939394\n",
      "r@2 0.04713920237217049\n",
      "R-precision@2 0.2279084959269904\n",
      "MAP@2 0.5969696969696969\n",
      "\n"
     ]
    },
    {
     "data": {
      "application/vnd.jupyter.widget-view+json": {
       "model_id": "79bbf6b40db74a1599f22f072989b5d4",
       "version_major": 2,
       "version_minor": 0
      },
      "text/plain": [
       "HBox(children=(IntProgress(value=0, max=495), HTML(value='')))"
      ]
     },
     "metadata": {},
     "output_type": "display_data"
    },
    {
     "name": "stdout",
     "output_type": "stream",
     "text": [
      "\n",
      "=========\n",
      "params={'title_boost': 0.05, 'pagerank_boost': 0.3, 'url_length_boost': 0.1, 'content_boost': 1, 'raw_content_boost': 0}\n",
      "p@3 0.5205387205387202\n",
      "r@3 0.06587442099027123\n",
      "R-precision@3 0.2279084959269904\n",
      "MAP@3 0.6055555555555554\n",
      "\n"
     ]
    },
    {
     "data": {
      "application/vnd.jupyter.widget-view+json": {
       "model_id": "cd97a71f555d430aab96e739a1a0ce1b",
       "version_major": 2,
       "version_minor": 0
      },
      "text/plain": [
       "HBox(children=(IntProgress(value=0, max=495), HTML(value='')))"
      ]
     },
     "metadata": {},
     "output_type": "display_data"
    },
    {
     "name": "stdout",
     "output_type": "stream",
     "text": [
      "\n",
      "=========\n",
      "params={'title_boost': 0.05, 'pagerank_boost': 0.3, 'url_length_boost': 0.1, 'content_boost': 1, 'raw_content_boost': 0}\n",
      "p@4 0.5126262626262627\n",
      "r@4 0.08378599066203048\n",
      "R-precision@4 0.2279084959269904\n",
      "MAP@4 0.6037037037037034\n",
      "\n"
     ]
    },
    {
     "data": {
      "application/vnd.jupyter.widget-view+json": {
       "model_id": "8feab6aa9cff47b4a1c16a55281f9b49",
       "version_major": 2,
       "version_minor": 0
      },
      "text/plain": [
       "HBox(children=(IntProgress(value=0, max=495), HTML(value='')))"
      ]
     },
     "metadata": {},
     "output_type": "display_data"
    },
    {
     "name": "stdout",
     "output_type": "stream",
     "text": [
      "\n",
      "=========\n",
      "params={'title_boost': 0.05, 'pagerank_boost': 0.3, 'url_length_boost': 0.1, 'content_boost': 1, 'raw_content_boost': 0}\n",
      "p@5 0.4993939393939397\n",
      "r@5 0.09727631005677798\n",
      "R-precision@5 0.2279084959269904\n",
      "MAP@5 0.6038355780022441\n",
      "\n"
     ]
    },
    {
     "data": {
      "application/vnd.jupyter.widget-view+json": {
       "model_id": "105a3cb834ba4441a5a5caf476adfa25",
       "version_major": 2,
       "version_minor": 0
      },
      "text/plain": [
       "HBox(children=(IntProgress(value=0, max=495), HTML(value='')))"
      ]
     },
     "metadata": {},
     "output_type": "display_data"
    },
    {
     "name": "stdout",
     "output_type": "stream",
     "text": [
      "\n",
      "=========\n",
      "params={'title_boost': 0.05, 'pagerank_boost': 0.3, 'url_length_boost': 0.1, 'content_boost': 1, 'raw_content_boost': 0}\n",
      "p@6 0.4902356902356904\n",
      "r@6 0.11274943631301382\n",
      "R-precision@6 0.2279084959269904\n",
      "MAP@6 0.6029315375982041\n",
      "\n"
     ]
    },
    {
     "data": {
      "application/vnd.jupyter.widget-view+json": {
       "model_id": "23757765a3fa4e71ba67cc0f77e0e5ea",
       "version_major": 2,
       "version_minor": 0
      },
      "text/plain": [
       "HBox(children=(IntProgress(value=0, max=495), HTML(value='')))"
      ]
     },
     "metadata": {},
     "output_type": "display_data"
    },
    {
     "name": "stdout",
     "output_type": "stream",
     "text": [
      "\n",
      "=========\n",
      "params={'title_boost': 0.05, 'pagerank_boost': 0.3, 'url_length_boost': 0.1, 'content_boost': 1, 'raw_content_boost': 0}\n",
      "p@7 0.4802308802308802\n",
      "r@7 0.12685400171226757\n",
      "R-precision@7 0.2279084959269904\n",
      "MAP@7 0.6008644380311048\n",
      "\n"
     ]
    },
    {
     "data": {
      "application/vnd.jupyter.widget-view+json": {
       "model_id": "66480d403bb44bdb8f97e468c2d6d58e",
       "version_major": 2,
       "version_minor": 0
      },
      "text/plain": [
       "HBox(children=(IntProgress(value=0, max=495), HTML(value='')))"
      ]
     },
     "metadata": {},
     "output_type": "display_data"
    },
    {
     "name": "stdout",
     "output_type": "stream",
     "text": [
      "\n",
      "=========\n",
      "params={'title_boost': 0.05, 'pagerank_boost': 0.3, 'url_length_boost': 0.1, 'content_boost': 1, 'raw_content_boost': 0}\n",
      "p@8 0.47424242424242424\n",
      "r@8 0.1408066347964722\n",
      "R-precision@8 0.2279084959269904\n",
      "MAP@8 0.5956181199752629\n",
      "\n"
     ]
    },
    {
     "data": {
      "application/vnd.jupyter.widget-view+json": {
       "model_id": "370f88991f3a4f389d7676ab054bea86",
       "version_major": 2,
       "version_minor": 0
      },
      "text/plain": [
       "HBox(children=(IntProgress(value=0, max=495), HTML(value='')))"
      ]
     },
     "metadata": {},
     "output_type": "display_data"
    },
    {
     "name": "stdout",
     "output_type": "stream",
     "text": [
      "\n",
      "=========\n",
      "params={'title_boost': 0.05, 'pagerank_boost': 0.3, 'url_length_boost': 0.1, 'content_boost': 1, 'raw_content_boost': 0}\n",
      "p@9 0.46868686868686876\n",
      "r@9 0.1544530232182102\n",
      "R-precision@9 0.2279084959269904\n",
      "MAP@9 0.5905953583453583\n",
      "\n"
     ]
    },
    {
     "data": {
      "application/vnd.jupyter.widget-view+json": {
       "model_id": "2dc905ef0db54e27a3f134ca521f51a4",
       "version_major": 2,
       "version_minor": 0
      },
      "text/plain": [
       "HBox(children=(IntProgress(value=0, max=495), HTML(value='')))"
      ]
     },
     "metadata": {},
     "output_type": "display_data"
    },
    {
     "name": "stdout",
     "output_type": "stream",
     "text": [
      "\n",
      "=========\n",
      "params={'title_boost': 0.05, 'pagerank_boost': 0.3, 'url_length_boost': 0.1, 'content_boost': 1, 'raw_content_boost': 0}\n",
      "p@10 0.4604040404040404\n",
      "r@10 0.16641377271002872\n",
      "R-precision@10 0.2279084959269904\n",
      "MAP@10 0.586557092721114\n",
      "\n"
     ]
    },
    {
     "data": {
      "application/vnd.jupyter.widget-view+json": {
       "model_id": "01987c6abdb347bbb9f96f45ec363fe6",
       "version_major": 2,
       "version_minor": 0
      },
      "text/plain": [
       "HBox(children=(IntProgress(value=0, max=495), HTML(value='')))"
      ]
     },
     "metadata": {},
     "output_type": "display_data"
    },
    {
     "name": "stdout",
     "output_type": "stream",
     "text": [
      "\n",
      "=========\n",
      "params={'title_boost': 0.05, 'pagerank_boost': 0.3, 'url_length_boost': 0.1, 'content_boost': 1, 'raw_content_boost': 0}\n",
      "p@11 0.4534435261707989\n",
      "r@11 0.17693847780105393\n",
      "R-precision@11 0.2279084959269904\n",
      "MAP@11 0.584451454870286\n",
      "\n"
     ]
    },
    {
     "data": {
      "application/vnd.jupyter.widget-view+json": {
       "model_id": "45009a2f69c04be8a0aef99d73461d60",
       "version_major": 2,
       "version_minor": 0
      },
      "text/plain": [
       "HBox(children=(IntProgress(value=0, max=495), HTML(value='')))"
      ]
     },
     "metadata": {},
     "output_type": "display_data"
    },
    {
     "name": "stdout",
     "output_type": "stream",
     "text": [
      "\n",
      "=========\n",
      "params={'title_boost': 0.05, 'pagerank_boost': 0.3, 'url_length_boost': 0.1, 'content_boost': 1, 'raw_content_boost': 0}\n",
      "p@12 0.44595959595959594\n",
      "r@12 0.18744514433086906\n",
      "R-precision@12 0.2279084959269904\n",
      "MAP@12 0.5812712115869778\n",
      "\n"
     ]
    },
    {
     "data": {
      "application/vnd.jupyter.widget-view+json": {
       "model_id": "c5bd9082c41247b1bc6479e7452f153a",
       "version_major": 2,
       "version_minor": 0
      },
      "text/plain": [
       "HBox(children=(IntProgress(value=0, max=495), HTML(value='')))"
      ]
     },
     "metadata": {},
     "output_type": "display_data"
    },
    {
     "name": "stdout",
     "output_type": "stream",
     "text": [
      "\n",
      "=========\n",
      "params={'title_boost': 0.05, 'pagerank_boost': 0.3, 'url_length_boost': 0.1, 'content_boost': 1, 'raw_content_boost': 0}\n",
      "p@13 0.44024864024864024\n",
      "r@13 0.19782655186536863\n",
      "R-precision@13 0.2279084959269904\n",
      "MAP@13 0.576783069120808\n",
      "\n"
     ]
    },
    {
     "data": {
      "application/vnd.jupyter.widget-view+json": {
       "model_id": "3040675decfa456294e2e5871057fcf9",
       "version_major": 2,
       "version_minor": 0
      },
      "text/plain": [
       "HBox(children=(IntProgress(value=0, max=495), HTML(value='')))"
      ]
     },
     "metadata": {},
     "output_type": "display_data"
    },
    {
     "name": "stdout",
     "output_type": "stream",
     "text": [
      "\n",
      "=========\n",
      "params={'title_boost': 0.05, 'pagerank_boost': 0.3, 'url_length_boost': 0.1, 'content_boost': 1, 'raw_content_boost': 0}\n",
      "p@14 0.43593073593073633\n",
      "r@14 0.20964175999099346\n",
      "R-precision@14 0.2279084959269904\n",
      "MAP@14 0.5723492712513084\n",
      "\n"
     ]
    },
    {
     "data": {
      "application/vnd.jupyter.widget-view+json": {
       "model_id": "529aa2a86d3d44e087458c2aa0c17a6a",
       "version_major": 2,
       "version_minor": 0
      },
      "text/plain": [
       "HBox(children=(IntProgress(value=0, max=495), HTML(value='')))"
      ]
     },
     "metadata": {},
     "output_type": "display_data"
    },
    {
     "name": "stdout",
     "output_type": "stream",
     "text": [
      "\n",
      "=========\n",
      "params={'title_boost': 0.05, 'pagerank_boost': 0.3, 'url_length_boost': 0.1, 'content_boost': 1, 'raw_content_boost': 0}\n",
      "p@15 0.43084175084175047\n",
      "r@15 0.22145637294133885\n",
      "R-precision@15 0.2279084959269904\n",
      "MAP@15 0.5706535982533995\n",
      "\n"
     ]
    },
    {
     "data": {
      "application/vnd.jupyter.widget-view+json": {
       "model_id": "fa3c3957ece1439c966b2314e7720a3c",
       "version_major": 2,
       "version_minor": 0
      },
      "text/plain": [
       "HBox(children=(IntProgress(value=0, max=495), HTML(value='')))"
      ]
     },
     "metadata": {},
     "output_type": "display_data"
    },
    {
     "name": "stdout",
     "output_type": "stream",
     "text": [
      "\n",
      "=========\n",
      "params={'title_boost': 0.05, 'pagerank_boost': 0.3, 'url_length_boost': 0.1, 'content_boost': 1, 'raw_content_boost': 0}\n",
      "p@16 0.4268939393939394\n",
      "r@16 0.2321318246512367\n",
      "R-precision@16 0.2279084959269904\n",
      "MAP@16 0.5683896600524405\n",
      "\n"
     ]
    },
    {
     "data": {
      "application/vnd.jupyter.widget-view+json": {
       "model_id": "e4d1250b02614d91bc5a723bf3a7b03d",
       "version_major": 2,
       "version_minor": 0
      },
      "text/plain": [
       "HBox(children=(IntProgress(value=0, max=495), HTML(value='')))"
      ]
     },
     "metadata": {},
     "output_type": "display_data"
    },
    {
     "name": "stdout",
     "output_type": "stream",
     "text": [
      "\n",
      "=========\n",
      "params={'title_boost': 0.05, 'pagerank_boost': 0.3, 'url_length_boost': 0.1, 'content_boost': 1, 'raw_content_boost': 0}\n",
      "p@17 0.4211527035056449\n",
      "r@17 0.24099908317536192\n",
      "R-precision@17 0.2279084959269904\n",
      "MAP@17 0.5650714531664506\n",
      "\n"
     ]
    },
    {
     "data": {
      "application/vnd.jupyter.widget-view+json": {
       "model_id": "154243c0214c41109b536a66f7774308",
       "version_major": 2,
       "version_minor": 0
      },
      "text/plain": [
       "HBox(children=(IntProgress(value=0, max=495), HTML(value='')))"
      ]
     },
     "metadata": {},
     "output_type": "display_data"
    },
    {
     "name": "stdout",
     "output_type": "stream",
     "text": [
      "\n",
      "=========\n",
      "params={'title_boost': 0.05, 'pagerank_boost': 0.3, 'url_length_boost': 0.1, 'content_boost': 1, 'raw_content_boost': 0}\n",
      "p@18 0.4163860830527495\n",
      "r@18 0.24928805925769193\n",
      "R-precision@18 0.2279084959269904\n",
      "MAP@18 0.562283249547074\n",
      "\n"
     ]
    },
    {
     "data": {
      "application/vnd.jupyter.widget-view+json": {
       "model_id": "01401d127787440fabe3522e26ff5862",
       "version_major": 2,
       "version_minor": 0
      },
      "text/plain": [
       "HBox(children=(IntProgress(value=0, max=495), HTML(value='')))"
      ]
     },
     "metadata": {},
     "output_type": "display_data"
    },
    {
     "name": "stdout",
     "output_type": "stream",
     "text": [
      "\n",
      "=========\n",
      "params={'title_boost': 0.05, 'pagerank_boost': 0.3, 'url_length_boost': 0.1, 'content_boost': 1, 'raw_content_boost': 0}\n",
      "p@19 0.4123338649654441\n",
      "r@19 0.2588011428649659\n",
      "R-precision@19 0.2279084959269904\n",
      "MAP@19 0.5600075911557244\n",
      "\n"
     ]
    },
    {
     "data": {
      "application/vnd.jupyter.widget-view+json": {
       "model_id": "07b8e0145cef4c75b70f9d8fa77b39a9",
       "version_major": 2,
       "version_minor": 0
      },
      "text/plain": [
       "HBox(children=(IntProgress(value=0, max=495), HTML(value='')))"
      ]
     },
     "metadata": {},
     "output_type": "display_data"
    },
    {
     "name": "stdout",
     "output_type": "stream",
     "text": [
      "\n",
      "=========\n",
      "params={'title_boost': 0.05, 'pagerank_boost': 0.3, 'url_length_boost': 0.1, 'content_boost': 1, 'raw_content_boost': 0}\n",
      "p@20 0.40797979797979783\n",
      "r@20 0.26800214171371245\n",
      "R-precision@20 0.2279084959269904\n",
      "MAP@20 0.5563371968330636\n",
      "\n"
     ]
    }
   ],
   "source": [
    "params = {\n",
    "    'title_boost': 0.05, \n",
    "    'pagerank_boost': 0.3, \n",
    "    'url_length_boost': 0.1,\n",
    "    'content_boost': 1,\n",
    "    'raw_content_boost': 0\n",
    "}\n",
    "query_builder = get_query_builder(**params)\n",
    "results = [analyze_results(MYANDEX_PAGERANK, query_builder, lemmatize_query=True, K=k, params=params) for k in range(1, 21)]"
   ]
  },
  {
   "cell_type": "code",
   "execution_count": 60,
   "metadata": {},
   "outputs": [
    {
     "data": {
      "application/vnd.plotly.v1+json": {
       "config": {
        "linkText": "Export to plot.ly",
        "plotlyServerURL": "https://plot.ly",
        "showLink": false
       },
       "data": [
        {
         "mode": "lines",
         "name": "p@K",
         "type": "scatter",
         "x": [
          1,
          2,
          3,
          4,
          5,
          6,
          7,
          8,
          9,
          10,
          11,
          12,
          13,
          14,
          15,
          16,
          17,
          18,
          19,
          20
         ],
         "y": [
          0.5494949494949495,
          0.5393939393939394,
          0.5205387205387202,
          0.5126262626262627,
          0.4993939393939397,
          0.4902356902356904,
          0.4802308802308802,
          0.47424242424242424,
          0.46868686868686876,
          0.4604040404040404,
          0.4534435261707989,
          0.44595959595959594,
          0.44024864024864024,
          0.43593073593073633,
          0.43084175084175047,
          0.4268939393939394,
          0.4211527035056449,
          0.4163860830527495,
          0.4123338649654441,
          0.40797979797979783
         ]
        },
        {
         "mode": "lines",
         "name": "r@K",
         "type": "scatter",
         "x": [
          1,
          2,
          3,
          4,
          5,
          6,
          7,
          8,
          9,
          10,
          11,
          12,
          13,
          14,
          15,
          16,
          17,
          18,
          19,
          20
         ],
         "y": [
          0.02538380936741067,
          0.04713920237217049,
          0.06587442099027123,
          0.08378599066203048,
          0.09727631005677798,
          0.11274943631301382,
          0.12685400171226757,
          0.1408066347964722,
          0.1544530232182102,
          0.16641377271002872,
          0.17693847780105393,
          0.18744514433086906,
          0.19782655186536863,
          0.20964175999099346,
          0.22145637294133885,
          0.2321318246512367,
          0.24099908317536192,
          0.24928805925769193,
          0.2588011428649659,
          0.26800214171371245
         ]
        },
        {
         "mode": "lines",
         "name": "R-precision@K",
         "type": "scatter",
         "x": [
          1,
          2,
          3,
          4,
          5,
          6,
          7,
          8,
          9,
          10,
          11,
          12,
          13,
          14,
          15,
          16,
          17,
          18,
          19,
          20
         ],
         "y": [
          0.2279084959269904,
          0.2279084959269904,
          0.2279084959269904,
          0.2279084959269904,
          0.2279084959269904,
          0.2279084959269904,
          0.2279084959269904,
          0.2279084959269904,
          0.2279084959269904,
          0.2279084959269904,
          0.2279084959269904,
          0.2279084959269904,
          0.2279084959269904,
          0.2279084959269904,
          0.2279084959269904,
          0.2279084959269904,
          0.2279084959269904,
          0.2279084959269904,
          0.2279084959269904,
          0.2279084959269904
         ]
        },
        {
         "mode": "lines",
         "name": "MAP@K",
         "type": "scatter",
         "x": [
          1,
          2,
          3,
          4,
          5,
          6,
          7,
          8,
          9,
          10,
          11,
          12,
          13,
          14,
          15,
          16,
          17,
          18,
          19,
          20
         ],
         "y": [
          0.5494949494949495,
          0.5969696969696969,
          0.6055555555555554,
          0.6037037037037034,
          0.6038355780022441,
          0.6029315375982041,
          0.6008644380311048,
          0.5956181199752629,
          0.5905953583453583,
          0.586557092721114,
          0.584451454870286,
          0.5812712115869778,
          0.576783069120808,
          0.5723492712513084,
          0.5706535982533995,
          0.5683896600524405,
          0.5650714531664506,
          0.562283249547074,
          0.5600075911557244,
          0.5563371968330636
         ]
        }
       ],
       "layout": {
        "template": {
         "data": {
          "bar": [
           {
            "error_x": {
             "color": "#2a3f5f"
            },
            "error_y": {
             "color": "#2a3f5f"
            },
            "marker": {
             "line": {
              "color": "#E5ECF6",
              "width": 0.5
             }
            },
            "type": "bar"
           }
          ],
          "barpolar": [
           {
            "marker": {
             "line": {
              "color": "#E5ECF6",
              "width": 0.5
             }
            },
            "type": "barpolar"
           }
          ],
          "carpet": [
           {
            "aaxis": {
             "endlinecolor": "#2a3f5f",
             "gridcolor": "white",
             "linecolor": "white",
             "minorgridcolor": "white",
             "startlinecolor": "#2a3f5f"
            },
            "baxis": {
             "endlinecolor": "#2a3f5f",
             "gridcolor": "white",
             "linecolor": "white",
             "minorgridcolor": "white",
             "startlinecolor": "#2a3f5f"
            },
            "type": "carpet"
           }
          ],
          "choropleth": [
           {
            "colorbar": {
             "outlinewidth": 0,
             "ticks": ""
            },
            "type": "choropleth"
           }
          ],
          "contour": [
           {
            "colorbar": {
             "outlinewidth": 0,
             "ticks": ""
            },
            "colorscale": [
             [
              0,
              "#0d0887"
             ],
             [
              0.1111111111111111,
              "#46039f"
             ],
             [
              0.2222222222222222,
              "#7201a8"
             ],
             [
              0.3333333333333333,
              "#9c179e"
             ],
             [
              0.4444444444444444,
              "#bd3786"
             ],
             [
              0.5555555555555556,
              "#d8576b"
             ],
             [
              0.6666666666666666,
              "#ed7953"
             ],
             [
              0.7777777777777778,
              "#fb9f3a"
             ],
             [
              0.8888888888888888,
              "#fdca26"
             ],
             [
              1,
              "#f0f921"
             ]
            ],
            "type": "contour"
           }
          ],
          "contourcarpet": [
           {
            "colorbar": {
             "outlinewidth": 0,
             "ticks": ""
            },
            "type": "contourcarpet"
           }
          ],
          "heatmap": [
           {
            "colorbar": {
             "outlinewidth": 0,
             "ticks": ""
            },
            "colorscale": [
             [
              0,
              "#0d0887"
             ],
             [
              0.1111111111111111,
              "#46039f"
             ],
             [
              0.2222222222222222,
              "#7201a8"
             ],
             [
              0.3333333333333333,
              "#9c179e"
             ],
             [
              0.4444444444444444,
              "#bd3786"
             ],
             [
              0.5555555555555556,
              "#d8576b"
             ],
             [
              0.6666666666666666,
              "#ed7953"
             ],
             [
              0.7777777777777778,
              "#fb9f3a"
             ],
             [
              0.8888888888888888,
              "#fdca26"
             ],
             [
              1,
              "#f0f921"
             ]
            ],
            "type": "heatmap"
           }
          ],
          "heatmapgl": [
           {
            "colorbar": {
             "outlinewidth": 0,
             "ticks": ""
            },
            "colorscale": [
             [
              0,
              "#0d0887"
             ],
             [
              0.1111111111111111,
              "#46039f"
             ],
             [
              0.2222222222222222,
              "#7201a8"
             ],
             [
              0.3333333333333333,
              "#9c179e"
             ],
             [
              0.4444444444444444,
              "#bd3786"
             ],
             [
              0.5555555555555556,
              "#d8576b"
             ],
             [
              0.6666666666666666,
              "#ed7953"
             ],
             [
              0.7777777777777778,
              "#fb9f3a"
             ],
             [
              0.8888888888888888,
              "#fdca26"
             ],
             [
              1,
              "#f0f921"
             ]
            ],
            "type": "heatmapgl"
           }
          ],
          "histogram": [
           {
            "marker": {
             "colorbar": {
              "outlinewidth": 0,
              "ticks": ""
             }
            },
            "type": "histogram"
           }
          ],
          "histogram2d": [
           {
            "colorbar": {
             "outlinewidth": 0,
             "ticks": ""
            },
            "colorscale": [
             [
              0,
              "#0d0887"
             ],
             [
              0.1111111111111111,
              "#46039f"
             ],
             [
              0.2222222222222222,
              "#7201a8"
             ],
             [
              0.3333333333333333,
              "#9c179e"
             ],
             [
              0.4444444444444444,
              "#bd3786"
             ],
             [
              0.5555555555555556,
              "#d8576b"
             ],
             [
              0.6666666666666666,
              "#ed7953"
             ],
             [
              0.7777777777777778,
              "#fb9f3a"
             ],
             [
              0.8888888888888888,
              "#fdca26"
             ],
             [
              1,
              "#f0f921"
             ]
            ],
            "type": "histogram2d"
           }
          ],
          "histogram2dcontour": [
           {
            "colorbar": {
             "outlinewidth": 0,
             "ticks": ""
            },
            "colorscale": [
             [
              0,
              "#0d0887"
             ],
             [
              0.1111111111111111,
              "#46039f"
             ],
             [
              0.2222222222222222,
              "#7201a8"
             ],
             [
              0.3333333333333333,
              "#9c179e"
             ],
             [
              0.4444444444444444,
              "#bd3786"
             ],
             [
              0.5555555555555556,
              "#d8576b"
             ],
             [
              0.6666666666666666,
              "#ed7953"
             ],
             [
              0.7777777777777778,
              "#fb9f3a"
             ],
             [
              0.8888888888888888,
              "#fdca26"
             ],
             [
              1,
              "#f0f921"
             ]
            ],
            "type": "histogram2dcontour"
           }
          ],
          "mesh3d": [
           {
            "colorbar": {
             "outlinewidth": 0,
             "ticks": ""
            },
            "type": "mesh3d"
           }
          ],
          "parcoords": [
           {
            "line": {
             "colorbar": {
              "outlinewidth": 0,
              "ticks": ""
             }
            },
            "type": "parcoords"
           }
          ],
          "scatter": [
           {
            "marker": {
             "colorbar": {
              "outlinewidth": 0,
              "ticks": ""
             }
            },
            "type": "scatter"
           }
          ],
          "scatter3d": [
           {
            "line": {
             "colorbar": {
              "outlinewidth": 0,
              "ticks": ""
             }
            },
            "marker": {
             "colorbar": {
              "outlinewidth": 0,
              "ticks": ""
             }
            },
            "type": "scatter3d"
           }
          ],
          "scattercarpet": [
           {
            "marker": {
             "colorbar": {
              "outlinewidth": 0,
              "ticks": ""
             }
            },
            "type": "scattercarpet"
           }
          ],
          "scattergeo": [
           {
            "marker": {
             "colorbar": {
              "outlinewidth": 0,
              "ticks": ""
             }
            },
            "type": "scattergeo"
           }
          ],
          "scattergl": [
           {
            "marker": {
             "colorbar": {
              "outlinewidth": 0,
              "ticks": ""
             }
            },
            "type": "scattergl"
           }
          ],
          "scattermapbox": [
           {
            "marker": {
             "colorbar": {
              "outlinewidth": 0,
              "ticks": ""
             }
            },
            "type": "scattermapbox"
           }
          ],
          "scatterpolar": [
           {
            "marker": {
             "colorbar": {
              "outlinewidth": 0,
              "ticks": ""
             }
            },
            "type": "scatterpolar"
           }
          ],
          "scatterpolargl": [
           {
            "marker": {
             "colorbar": {
              "outlinewidth": 0,
              "ticks": ""
             }
            },
            "type": "scatterpolargl"
           }
          ],
          "scatterternary": [
           {
            "marker": {
             "colorbar": {
              "outlinewidth": 0,
              "ticks": ""
             }
            },
            "type": "scatterternary"
           }
          ],
          "surface": [
           {
            "colorbar": {
             "outlinewidth": 0,
             "ticks": ""
            },
            "colorscale": [
             [
              0,
              "#0d0887"
             ],
             [
              0.1111111111111111,
              "#46039f"
             ],
             [
              0.2222222222222222,
              "#7201a8"
             ],
             [
              0.3333333333333333,
              "#9c179e"
             ],
             [
              0.4444444444444444,
              "#bd3786"
             ],
             [
              0.5555555555555556,
              "#d8576b"
             ],
             [
              0.6666666666666666,
              "#ed7953"
             ],
             [
              0.7777777777777778,
              "#fb9f3a"
             ],
             [
              0.8888888888888888,
              "#fdca26"
             ],
             [
              1,
              "#f0f921"
             ]
            ],
            "type": "surface"
           }
          ],
          "table": [
           {
            "cells": {
             "fill": {
              "color": "#EBF0F8"
             },
             "line": {
              "color": "white"
             }
            },
            "header": {
             "fill": {
              "color": "#C8D4E3"
             },
             "line": {
              "color": "white"
             }
            },
            "type": "table"
           }
          ]
         },
         "layout": {
          "annotationdefaults": {
           "arrowcolor": "#2a3f5f",
           "arrowhead": 0,
           "arrowwidth": 1
          },
          "colorscale": {
           "diverging": [
            [
             0,
             "#8e0152"
            ],
            [
             0.1,
             "#c51b7d"
            ],
            [
             0.2,
             "#de77ae"
            ],
            [
             0.3,
             "#f1b6da"
            ],
            [
             0.4,
             "#fde0ef"
            ],
            [
             0.5,
             "#f7f7f7"
            ],
            [
             0.6,
             "#e6f5d0"
            ],
            [
             0.7,
             "#b8e186"
            ],
            [
             0.8,
             "#7fbc41"
            ],
            [
             0.9,
             "#4d9221"
            ],
            [
             1,
             "#276419"
            ]
           ],
           "sequential": [
            [
             0,
             "#0d0887"
            ],
            [
             0.1111111111111111,
             "#46039f"
            ],
            [
             0.2222222222222222,
             "#7201a8"
            ],
            [
             0.3333333333333333,
             "#9c179e"
            ],
            [
             0.4444444444444444,
             "#bd3786"
            ],
            [
             0.5555555555555556,
             "#d8576b"
            ],
            [
             0.6666666666666666,
             "#ed7953"
            ],
            [
             0.7777777777777778,
             "#fb9f3a"
            ],
            [
             0.8888888888888888,
             "#fdca26"
            ],
            [
             1,
             "#f0f921"
            ]
           ],
           "sequentialminus": [
            [
             0,
             "#0d0887"
            ],
            [
             0.1111111111111111,
             "#46039f"
            ],
            [
             0.2222222222222222,
             "#7201a8"
            ],
            [
             0.3333333333333333,
             "#9c179e"
            ],
            [
             0.4444444444444444,
             "#bd3786"
            ],
            [
             0.5555555555555556,
             "#d8576b"
            ],
            [
             0.6666666666666666,
             "#ed7953"
            ],
            [
             0.7777777777777778,
             "#fb9f3a"
            ],
            [
             0.8888888888888888,
             "#fdca26"
            ],
            [
             1,
             "#f0f921"
            ]
           ]
          },
          "colorway": [
           "#636efa",
           "#EF553B",
           "#00cc96",
           "#ab63fa",
           "#FFA15A",
           "#19d3f3",
           "#FF6692",
           "#B6E880",
           "#FF97FF",
           "#FECB52"
          ],
          "font": {
           "color": "#2a3f5f"
          },
          "geo": {
           "bgcolor": "white",
           "lakecolor": "white",
           "landcolor": "#E5ECF6",
           "showlakes": true,
           "showland": true,
           "subunitcolor": "white"
          },
          "hoverlabel": {
           "align": "left"
          },
          "hovermode": "closest",
          "mapbox": {
           "style": "light"
          },
          "paper_bgcolor": "white",
          "plot_bgcolor": "#E5ECF6",
          "polar": {
           "angularaxis": {
            "gridcolor": "white",
            "linecolor": "white",
            "ticks": ""
           },
           "bgcolor": "#E5ECF6",
           "radialaxis": {
            "gridcolor": "white",
            "linecolor": "white",
            "ticks": ""
           }
          },
          "scene": {
           "xaxis": {
            "backgroundcolor": "#E5ECF6",
            "gridcolor": "white",
            "gridwidth": 2,
            "linecolor": "white",
            "showbackground": true,
            "ticks": "",
            "zerolinecolor": "white"
           },
           "yaxis": {
            "backgroundcolor": "#E5ECF6",
            "gridcolor": "white",
            "gridwidth": 2,
            "linecolor": "white",
            "showbackground": true,
            "ticks": "",
            "zerolinecolor": "white"
           },
           "zaxis": {
            "backgroundcolor": "#E5ECF6",
            "gridcolor": "white",
            "gridwidth": 2,
            "linecolor": "white",
            "showbackground": true,
            "ticks": "",
            "zerolinecolor": "white"
           }
          },
          "shapedefaults": {
           "line": {
            "color": "#2a3f5f"
           }
          },
          "ternary": {
           "aaxis": {
            "gridcolor": "white",
            "linecolor": "white",
            "ticks": ""
           },
           "baxis": {
            "gridcolor": "white",
            "linecolor": "white",
            "ticks": ""
           },
           "bgcolor": "#E5ECF6",
           "caxis": {
            "gridcolor": "white",
            "linecolor": "white",
            "ticks": ""
           }
          },
          "title": {
           "x": 0.05
          },
          "xaxis": {
           "automargin": true,
           "gridcolor": "white",
           "linecolor": "white",
           "ticks": "",
           "zerolinecolor": "white",
           "zerolinewidth": 2
          },
          "yaxis": {
           "automargin": true,
           "gridcolor": "white",
           "linecolor": "white",
           "ticks": "",
           "zerolinecolor": "white",
           "zerolinewidth": 2
          }
         }
        },
        "xaxis": {
         "title": {
          "text": "K"
         }
        },
        "yaxis": {
         "title": {
          "text": "score"
         }
        }
       }
      },
      "text/html": [
       "<div>\n",
       "        \n",
       "        \n",
       "            <div id=\"d10d1c03-e990-4cad-a65f-f67317904e76\" class=\"plotly-graph-div\" style=\"height:525px; width:100%;\"></div>\n",
       "            <script type=\"text/javascript\">\n",
       "                require([\"plotly\"], function(Plotly) {\n",
       "                    window.PLOTLYENV=window.PLOTLYENV || {};\n",
       "                    \n",
       "                if (document.getElementById(\"d10d1c03-e990-4cad-a65f-f67317904e76\")) {\n",
       "                    Plotly.newPlot(\n",
       "                        'd10d1c03-e990-4cad-a65f-f67317904e76',\n",
       "                        [{\"mode\": \"lines\", \"name\": \"p@K\", \"type\": \"scatter\", \"x\": [1, 2, 3, 4, 5, 6, 7, 8, 9, 10, 11, 12, 13, 14, 15, 16, 17, 18, 19, 20], \"y\": [0.5494949494949495, 0.5393939393939394, 0.5205387205387202, 0.5126262626262627, 0.4993939393939397, 0.4902356902356904, 0.4802308802308802, 0.47424242424242424, 0.46868686868686876, 0.4604040404040404, 0.4534435261707989, 0.44595959595959594, 0.44024864024864024, 0.43593073593073633, 0.43084175084175047, 0.4268939393939394, 0.4211527035056449, 0.4163860830527495, 0.4123338649654441, 0.40797979797979783]}, {\"mode\": \"lines\", \"name\": \"r@K\", \"type\": \"scatter\", \"x\": [1, 2, 3, 4, 5, 6, 7, 8, 9, 10, 11, 12, 13, 14, 15, 16, 17, 18, 19, 20], \"y\": [0.02538380936741067, 0.04713920237217049, 0.06587442099027123, 0.08378599066203048, 0.09727631005677798, 0.11274943631301382, 0.12685400171226757, 0.1408066347964722, 0.1544530232182102, 0.16641377271002872, 0.17693847780105393, 0.18744514433086906, 0.19782655186536863, 0.20964175999099346, 0.22145637294133885, 0.2321318246512367, 0.24099908317536192, 0.24928805925769193, 0.2588011428649659, 0.26800214171371245]}, {\"mode\": \"lines\", \"name\": \"R-precision@K\", \"type\": \"scatter\", \"x\": [1, 2, 3, 4, 5, 6, 7, 8, 9, 10, 11, 12, 13, 14, 15, 16, 17, 18, 19, 20], \"y\": [0.2279084959269904, 0.2279084959269904, 0.2279084959269904, 0.2279084959269904, 0.2279084959269904, 0.2279084959269904, 0.2279084959269904, 0.2279084959269904, 0.2279084959269904, 0.2279084959269904, 0.2279084959269904, 0.2279084959269904, 0.2279084959269904, 0.2279084959269904, 0.2279084959269904, 0.2279084959269904, 0.2279084959269904, 0.2279084959269904, 0.2279084959269904, 0.2279084959269904]}, {\"mode\": \"lines\", \"name\": \"MAP@K\", \"type\": \"scatter\", \"x\": [1, 2, 3, 4, 5, 6, 7, 8, 9, 10, 11, 12, 13, 14, 15, 16, 17, 18, 19, 20], \"y\": [0.5494949494949495, 0.5969696969696969, 0.6055555555555554, 0.6037037037037034, 0.6038355780022441, 0.6029315375982041, 0.6008644380311048, 0.5956181199752629, 0.5905953583453583, 0.586557092721114, 0.584451454870286, 0.5812712115869778, 0.576783069120808, 0.5723492712513084, 0.5706535982533995, 0.5683896600524405, 0.5650714531664506, 0.562283249547074, 0.5600075911557244, 0.5563371968330636]}],\n",
       "                        {\"template\": {\"data\": {\"bar\": [{\"error_x\": {\"color\": \"#2a3f5f\"}, \"error_y\": {\"color\": \"#2a3f5f\"}, \"marker\": {\"line\": {\"color\": \"#E5ECF6\", \"width\": 0.5}}, \"type\": \"bar\"}], \"barpolar\": [{\"marker\": {\"line\": {\"color\": \"#E5ECF6\", \"width\": 0.5}}, \"type\": \"barpolar\"}], \"carpet\": [{\"aaxis\": {\"endlinecolor\": \"#2a3f5f\", \"gridcolor\": \"white\", \"linecolor\": \"white\", \"minorgridcolor\": \"white\", \"startlinecolor\": \"#2a3f5f\"}, \"baxis\": {\"endlinecolor\": \"#2a3f5f\", \"gridcolor\": \"white\", \"linecolor\": \"white\", \"minorgridcolor\": \"white\", \"startlinecolor\": \"#2a3f5f\"}, \"type\": \"carpet\"}], \"choropleth\": [{\"colorbar\": {\"outlinewidth\": 0, \"ticks\": \"\"}, \"type\": \"choropleth\"}], \"contour\": [{\"colorbar\": {\"outlinewidth\": 0, \"ticks\": \"\"}, \"colorscale\": [[0.0, \"#0d0887\"], [0.1111111111111111, \"#46039f\"], [0.2222222222222222, \"#7201a8\"], [0.3333333333333333, \"#9c179e\"], [0.4444444444444444, \"#bd3786\"], [0.5555555555555556, \"#d8576b\"], [0.6666666666666666, \"#ed7953\"], [0.7777777777777778, \"#fb9f3a\"], [0.8888888888888888, \"#fdca26\"], [1.0, \"#f0f921\"]], \"type\": \"contour\"}], \"contourcarpet\": [{\"colorbar\": {\"outlinewidth\": 0, \"ticks\": \"\"}, \"type\": \"contourcarpet\"}], \"heatmap\": [{\"colorbar\": {\"outlinewidth\": 0, \"ticks\": \"\"}, \"colorscale\": [[0.0, \"#0d0887\"], [0.1111111111111111, \"#46039f\"], [0.2222222222222222, \"#7201a8\"], [0.3333333333333333, \"#9c179e\"], [0.4444444444444444, \"#bd3786\"], [0.5555555555555556, \"#d8576b\"], [0.6666666666666666, \"#ed7953\"], [0.7777777777777778, \"#fb9f3a\"], [0.8888888888888888, \"#fdca26\"], [1.0, \"#f0f921\"]], \"type\": \"heatmap\"}], \"heatmapgl\": [{\"colorbar\": {\"outlinewidth\": 0, \"ticks\": \"\"}, \"colorscale\": [[0.0, \"#0d0887\"], [0.1111111111111111, \"#46039f\"], [0.2222222222222222, \"#7201a8\"], [0.3333333333333333, \"#9c179e\"], [0.4444444444444444, \"#bd3786\"], [0.5555555555555556, \"#d8576b\"], [0.6666666666666666, \"#ed7953\"], [0.7777777777777778, \"#fb9f3a\"], [0.8888888888888888, \"#fdca26\"], [1.0, \"#f0f921\"]], \"type\": \"heatmapgl\"}], \"histogram\": [{\"marker\": {\"colorbar\": {\"outlinewidth\": 0, \"ticks\": \"\"}}, \"type\": \"histogram\"}], \"histogram2d\": [{\"colorbar\": {\"outlinewidth\": 0, \"ticks\": \"\"}, \"colorscale\": [[0.0, \"#0d0887\"], [0.1111111111111111, \"#46039f\"], [0.2222222222222222, \"#7201a8\"], [0.3333333333333333, \"#9c179e\"], [0.4444444444444444, \"#bd3786\"], [0.5555555555555556, \"#d8576b\"], [0.6666666666666666, \"#ed7953\"], [0.7777777777777778, \"#fb9f3a\"], [0.8888888888888888, \"#fdca26\"], [1.0, \"#f0f921\"]], \"type\": \"histogram2d\"}], \"histogram2dcontour\": [{\"colorbar\": {\"outlinewidth\": 0, \"ticks\": \"\"}, \"colorscale\": [[0.0, \"#0d0887\"], [0.1111111111111111, \"#46039f\"], [0.2222222222222222, \"#7201a8\"], [0.3333333333333333, \"#9c179e\"], [0.4444444444444444, \"#bd3786\"], [0.5555555555555556, \"#d8576b\"], [0.6666666666666666, \"#ed7953\"], [0.7777777777777778, \"#fb9f3a\"], [0.8888888888888888, \"#fdca26\"], [1.0, \"#f0f921\"]], \"type\": \"histogram2dcontour\"}], \"mesh3d\": [{\"colorbar\": {\"outlinewidth\": 0, \"ticks\": \"\"}, \"type\": \"mesh3d\"}], \"parcoords\": [{\"line\": {\"colorbar\": {\"outlinewidth\": 0, \"ticks\": \"\"}}, \"type\": \"parcoords\"}], \"scatter\": [{\"marker\": {\"colorbar\": {\"outlinewidth\": 0, \"ticks\": \"\"}}, \"type\": \"scatter\"}], \"scatter3d\": [{\"line\": {\"colorbar\": {\"outlinewidth\": 0, \"ticks\": \"\"}}, \"marker\": {\"colorbar\": {\"outlinewidth\": 0, \"ticks\": \"\"}}, \"type\": \"scatter3d\"}], \"scattercarpet\": [{\"marker\": {\"colorbar\": {\"outlinewidth\": 0, \"ticks\": \"\"}}, \"type\": \"scattercarpet\"}], \"scattergeo\": [{\"marker\": {\"colorbar\": {\"outlinewidth\": 0, \"ticks\": \"\"}}, \"type\": \"scattergeo\"}], \"scattergl\": [{\"marker\": {\"colorbar\": {\"outlinewidth\": 0, \"ticks\": \"\"}}, \"type\": \"scattergl\"}], \"scattermapbox\": [{\"marker\": {\"colorbar\": {\"outlinewidth\": 0, \"ticks\": \"\"}}, \"type\": \"scattermapbox\"}], \"scatterpolar\": [{\"marker\": {\"colorbar\": {\"outlinewidth\": 0, \"ticks\": \"\"}}, \"type\": \"scatterpolar\"}], \"scatterpolargl\": [{\"marker\": {\"colorbar\": {\"outlinewidth\": 0, \"ticks\": \"\"}}, \"type\": \"scatterpolargl\"}], \"scatterternary\": [{\"marker\": {\"colorbar\": {\"outlinewidth\": 0, \"ticks\": \"\"}}, \"type\": \"scatterternary\"}], \"surface\": [{\"colorbar\": {\"outlinewidth\": 0, \"ticks\": \"\"}, \"colorscale\": [[0.0, \"#0d0887\"], [0.1111111111111111, \"#46039f\"], [0.2222222222222222, \"#7201a8\"], [0.3333333333333333, \"#9c179e\"], [0.4444444444444444, \"#bd3786\"], [0.5555555555555556, \"#d8576b\"], [0.6666666666666666, \"#ed7953\"], [0.7777777777777778, \"#fb9f3a\"], [0.8888888888888888, \"#fdca26\"], [1.0, \"#f0f921\"]], \"type\": \"surface\"}], \"table\": [{\"cells\": {\"fill\": {\"color\": \"#EBF0F8\"}, \"line\": {\"color\": \"white\"}}, \"header\": {\"fill\": {\"color\": \"#C8D4E3\"}, \"line\": {\"color\": \"white\"}}, \"type\": \"table\"}]}, \"layout\": {\"annotationdefaults\": {\"arrowcolor\": \"#2a3f5f\", \"arrowhead\": 0, \"arrowwidth\": 1}, \"colorscale\": {\"diverging\": [[0, \"#8e0152\"], [0.1, \"#c51b7d\"], [0.2, \"#de77ae\"], [0.3, \"#f1b6da\"], [0.4, \"#fde0ef\"], [0.5, \"#f7f7f7\"], [0.6, \"#e6f5d0\"], [0.7, \"#b8e186\"], [0.8, \"#7fbc41\"], [0.9, \"#4d9221\"], [1, \"#276419\"]], \"sequential\": [[0.0, \"#0d0887\"], [0.1111111111111111, \"#46039f\"], [0.2222222222222222, \"#7201a8\"], [0.3333333333333333, \"#9c179e\"], [0.4444444444444444, \"#bd3786\"], [0.5555555555555556, \"#d8576b\"], [0.6666666666666666, \"#ed7953\"], [0.7777777777777778, \"#fb9f3a\"], [0.8888888888888888, \"#fdca26\"], [1.0, \"#f0f921\"]], \"sequentialminus\": [[0.0, \"#0d0887\"], [0.1111111111111111, \"#46039f\"], [0.2222222222222222, \"#7201a8\"], [0.3333333333333333, \"#9c179e\"], [0.4444444444444444, \"#bd3786\"], [0.5555555555555556, \"#d8576b\"], [0.6666666666666666, \"#ed7953\"], [0.7777777777777778, \"#fb9f3a\"], [0.8888888888888888, \"#fdca26\"], [1.0, \"#f0f921\"]]}, \"colorway\": [\"#636efa\", \"#EF553B\", \"#00cc96\", \"#ab63fa\", \"#FFA15A\", \"#19d3f3\", \"#FF6692\", \"#B6E880\", \"#FF97FF\", \"#FECB52\"], \"font\": {\"color\": \"#2a3f5f\"}, \"geo\": {\"bgcolor\": \"white\", \"lakecolor\": \"white\", \"landcolor\": \"#E5ECF6\", \"showlakes\": true, \"showland\": true, \"subunitcolor\": \"white\"}, \"hoverlabel\": {\"align\": \"left\"}, \"hovermode\": \"closest\", \"mapbox\": {\"style\": \"light\"}, \"paper_bgcolor\": \"white\", \"plot_bgcolor\": \"#E5ECF6\", \"polar\": {\"angularaxis\": {\"gridcolor\": \"white\", \"linecolor\": \"white\", \"ticks\": \"\"}, \"bgcolor\": \"#E5ECF6\", \"radialaxis\": {\"gridcolor\": \"white\", \"linecolor\": \"white\", \"ticks\": \"\"}}, \"scene\": {\"xaxis\": {\"backgroundcolor\": \"#E5ECF6\", \"gridcolor\": \"white\", \"gridwidth\": 2, \"linecolor\": \"white\", \"showbackground\": true, \"ticks\": \"\", \"zerolinecolor\": \"white\"}, \"yaxis\": {\"backgroundcolor\": \"#E5ECF6\", \"gridcolor\": \"white\", \"gridwidth\": 2, \"linecolor\": \"white\", \"showbackground\": true, \"ticks\": \"\", \"zerolinecolor\": \"white\"}, \"zaxis\": {\"backgroundcolor\": \"#E5ECF6\", \"gridcolor\": \"white\", \"gridwidth\": 2, \"linecolor\": \"white\", \"showbackground\": true, \"ticks\": \"\", \"zerolinecolor\": \"white\"}}, \"shapedefaults\": {\"line\": {\"color\": \"#2a3f5f\"}}, \"ternary\": {\"aaxis\": {\"gridcolor\": \"white\", \"linecolor\": \"white\", \"ticks\": \"\"}, \"baxis\": {\"gridcolor\": \"white\", \"linecolor\": \"white\", \"ticks\": \"\"}, \"bgcolor\": \"#E5ECF6\", \"caxis\": {\"gridcolor\": \"white\", \"linecolor\": \"white\", \"ticks\": \"\"}}, \"title\": {\"x\": 0.05}, \"xaxis\": {\"automargin\": true, \"gridcolor\": \"white\", \"linecolor\": \"white\", \"ticks\": \"\", \"zerolinecolor\": \"white\", \"zerolinewidth\": 2}, \"yaxis\": {\"automargin\": true, \"gridcolor\": \"white\", \"linecolor\": \"white\", \"ticks\": \"\", \"zerolinecolor\": \"white\", \"zerolinewidth\": 2}}}, \"xaxis\": {\"title\": {\"text\": \"K\"}}, \"yaxis\": {\"title\": {\"text\": \"score\"}}},\n",
       "                        {\"responsive\": true}\n",
       "                    ).then(function(){\n",
       "                            \n",
       "var gd = document.getElementById('d10d1c03-e990-4cad-a65f-f67317904e76');\n",
       "var x = new MutationObserver(function (mutations, observer) {{\n",
       "        var display = window.getComputedStyle(gd).display;\n",
       "        if (!display || display === 'none') {{\n",
       "            console.log([gd, 'removed!']);\n",
       "            Plotly.purge(gd);\n",
       "            observer.disconnect();\n",
       "        }}\n",
       "}});\n",
       "\n",
       "// Listen for the removal of the full notebook cells\n",
       "var notebookContainer = gd.closest('#notebook-container');\n",
       "if (notebookContainer) {{\n",
       "    x.observe(notebookContainer, {childList: true});\n",
       "}}\n",
       "\n",
       "// Listen for the clearing of the current output cell\n",
       "var outputEl = gd.closest('.output');\n",
       "if (outputEl) {{\n",
       "    x.observe(outputEl, {childList: true});\n",
       "}}\n",
       "\n",
       "                        })\n",
       "                };\n",
       "                });\n",
       "            </script>\n",
       "        </div>"
      ]
     },
     "metadata": {},
     "output_type": "display_data"
    }
   ],
   "source": [
    "build_plot(results)"
   ]
  },
  {
   "cell_type": "code",
   "execution_count": null,
   "metadata": {},
   "outputs": [],
   "source": []
  }
 ],
 "metadata": {
  "kernelspec": {
   "display_name": "ir",
   "language": "python",
   "name": "ir"
  },
  "language_info": {
   "codemirror_mode": {
    "name": "ipython",
    "version": 3
   },
   "file_extension": ".py",
   "mimetype": "text/x-python",
   "name": "python",
   "nbconvert_exporter": "python",
   "pygments_lexer": "ipython3",
   "version": "3.7.3"
  }
 },
 "nbformat": 4,
 "nbformat_minor": 2
}
